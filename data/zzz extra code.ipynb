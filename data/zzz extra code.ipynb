{
 "cells": [
  {
   "cell_type": "code",
   "execution_count": null,
   "id": "bf243e67-738c-4f47-a68b-2365e475a21d",
   "metadata": {},
   "outputs": [],
   "source": [
    "# EXTRA CODE I LEARNED FROM BUT USELESS?"
   ]
  },
  {
   "cell_type": "code",
   "execution_count": null,
   "id": "0246e275-7083-4dd3-bd83-20981a133553",
   "metadata": {},
   "outputs": [],
   "source": [
    "# FutureWarning: The frame.append method is deprecated and will be removed from pandas in a future version. Use pandas.concat instead.\n",
    "\n",
    "df_act_2017 = pd.concat([df_act_2017.iloc[1:], df_act_2017.iloc[:1]]).reset_index(drop = True)"
   ]
  },
  {
   "cell_type": "code",
   "execution_count": 1,
   "id": "0fb45fe9-38b1-42eb-9af1-6d628bb5e13e",
   "metadata": {},
   "outputs": [
    {
     "ename": "NameError",
     "evalue": "name 'df_act_2017' is not defined",
     "output_type": "error",
     "traceback": [
      "\u001b[0;31m---------------------------------------------------------------------------\u001b[0m",
      "\u001b[0;31mNameError\u001b[0m                                 Traceback (most recent call last)",
      "Cell \u001b[0;32mIn[1], line 1\u001b[0m\n\u001b[0;32m----> 1\u001b[0m \u001b[43mdf_act_2017\u001b[49m\u001b[38;5;241m.\u001b[39mloc[\u001b[38;5;241m50\u001b[39m, \u001b[38;5;124m'\u001b[39m\u001b[38;5;124mComposite\u001b[39m\u001b[38;5;124m'\u001b[39m] \u001b[38;5;241m=\u001b[39m \u001b[38;5;241m20.2\u001b[39m\n\u001b[1;32m      2\u001b[0m df_act_2017\u001b[38;5;241m.\u001b[39mtail(\u001b[38;5;241m3\u001b[39m)\n",
      "\u001b[0;31mNameError\u001b[0m: name 'df_act_2017' is not defined"
     ]
    }
   ],
   "source": [
    "df_act_2017.loc[50, 'Composite'] = 20.2\n",
    "df_act_2017.tail(3)"
   ]
  },
  {
   "cell_type": "code",
   "execution_count": null,
   "id": "0beba72a-5fa9-42ac-b5d2-cb9af9774e52",
   "metadata": {},
   "outputs": [],
   "source": [
    "df_act.loc[51, '2018_participation'] = '0%'"
   ]
  },
  {
   "cell_type": "code",
   "execution_count": null,
   "id": "6ebbabf5-0fe6-4254-bf27-35b07f4bac3f",
   "metadata": {},
   "outputs": [],
   "source": [
    "mean_machine(df_act['2018_participation'][0:50])"
   ]
  },
  {
   "cell_type": "code",
   "execution_count": null,
   "id": "36c73b56-5d36-472f-a874-0e2aa75bc95a",
   "metadata": {},
   "outputs": [],
   "source": [
    "df_act.loc[51, '2018_participation'] = 0.61"
   ]
  },
  {
   "cell_type": "code",
   "execution_count": null,
   "id": "e48ff84a-cc45-467f-8f03-89815dba848c",
   "metadata": {},
   "outputs": [],
   "source": [
    "mean_machine(df_act['2018_composite'][0:50])"
   ]
  },
  {
   "cell_type": "code",
   "execution_count": null,
   "id": "7b7100bb-9fcf-40b0-8432-462d681e108f",
   "metadata": {},
   "outputs": [],
   "source": [
    "df_act.loc[51, '2018_composite'] = 21.53\n",
    "df_act.tail(3)"
   ]
  }
 ],
 "metadata": {
  "kernelspec": {
   "display_name": "Python 3 (ipykernel)",
   "language": "python",
   "name": "python3"
  },
  "language_info": {
   "codemirror_mode": {
    "name": "ipython",
    "version": 3
   },
   "file_extension": ".py",
   "mimetype": "text/x-python",
   "name": "python",
   "nbconvert_exporter": "python",
   "pygments_lexer": "ipython3",
   "version": "3.10.9"
  }
 },
 "nbformat": 4,
 "nbformat_minor": 5
}
