{
 "cells": [
  {
   "cell_type": "markdown",
   "metadata": {},
   "source": [
    "<img src=\"http://imgur.com/1ZcRyrc.png\" style=\"float: left; margin: 20px; height: 55px\">\n",
    "\n",
    "# Project 1: Standardized Test Analysis"
   ]
  },
  {
   "cell_type": "markdown",
   "metadata": {},
   "source": [
    "--- \n",
    "# Part 1\n",
    "\n",
    "Part 1 requires knowledge of basic Python.\n",
    "\n",
    "---"
   ]
  },
  {
   "cell_type": "markdown",
   "metadata": {},
   "source": [
    "## Evaluating the Impact of Optional ACT and SAT Tests on Student Participation and Performance"
   ]
  },
  {
   "cell_type": "markdown",
   "metadata": {},
   "source": [
    "As an analyst hired by the US Department of Education, my objective is to evaluate the ACT and SAT participation rates and scores, utilizing data from 2017, 2018, and 2019 versus 2021 when a majority of colleges made these tests optional. Additionally, I will investigate whether the necessity of these tests influences student participation, and if the voluntary test-taking led to improved performance. This analysis aims to assess the ongoing value of investing significant resources and effort into these tests and explore alternative aspects of learning that could be prioritized. Based on the findings, I will provide recommendations to the ED regarding the future of the ACT and SAT requirements beyond the 2021 applications."
   ]
  },
  {
   "cell_type": "markdown",
   "metadata": {},
   "source": [
    "### Contents:\n",
    "- [Background](#Background)\n",
    "- [Data Import & Cleaning](#Data-Import-and-Cleaning)\n",
    "- [Exploratory Data Analysis](#Exploratory-Data-Analysis)\n",
    "- [Data Visualization](#Visualize-the-Data)\n",
    "- [Conclusions and Recommendations](#Conclusions-and-Recommendations)"
   ]
  },
  {
   "cell_type": "markdown",
   "metadata": {},
   "source": [
    "## Background"
   ]
  },
  {
   "cell_type": "markdown",
   "metadata": {},
   "source": [
    "The SAT and ACT are standardized tests that many colleges and universities in the United States require for their admissions process. This score is used along with other materials such as grade point average (GPA) and essay responses to determine whether or not a potential student will be accepted to the university.\n",
    "\n",
    "The SAT has two sections of the test: Evidence-Based Reading and Writing and Math ([*source*](https://www.princetonreview.com/college/sat-sections)). The ACT has 4 sections: English, Mathematics, Reading, and Science, with an additional optional writing section ([*source*](https://www.act.org/content/act/en/products-and-services/the-act/scores/understanding-your-scores.html)). They have different score ranges, which you can read more about on their websites or additional outside sources (a quick Google search will help you understand the scores for each test):\n",
    "* [SAT](https://collegereadiness.collegeboard.org/sat)\n",
    "* [ACT](https://www.act.org/content/act/en.html)\n",
    "\n",
    "Standardized tests have long been a controversial topic for students, administrators, and legislators. Since the 1940's, an increasing number of colleges have been using scores from sudents' performances on tests like the SAT and the ACT as a measure for college readiness and aptitude ([*source*](https://www.minotdailynews.com/news/local-news/2017/04/a-brief-history-of-the-sat-and-act/)). Supporters of these tests argue that these scores can be used as an objective measure to determine college admittance. Opponents of these tests claim that these tests are not accurate measures of students potential or ability and serve as an inequitable barrier to entry. Lately, more and more schools are opting to drop the SAT/ACT requirement for their Fall 2021 applications ([*read more*](https://www.cnn.com/2020/04/14/us/coronavirus-colleges-sat-act-test-trnd/index.html))."
   ]
  },
  {
   "cell_type": "markdown",
   "metadata": {},
   "source": [
    "The decision to make these tests optional is a response to various factors, including the ongoing debate surrounding the validity and equity of standardized testing, as well as the impact of external circumstances such as the COVID-19 pandemic ([*source*](https://www.cnn.com/2020/04/14/us/coronavirus-colleges-sat-act-test-trnd/index.html)). This shift in policy opens up opportunities for evaluating the impact of voluntary test participation on student engagement and performance, which forms the basis of this analysis. By examining participation rates and scores from 2017, 2018, and 2019 in comparison to the data from 2021, when many colleges adopted an optional testing policy, this project aims to shed light on the effects of this policy change."
   ]
  },
  {
   "cell_type": "markdown",
   "metadata": {},
   "source": [
    "### Data\n",
    "\n",
    "* [`act_2017.csv`](./data/act_2017.csv): 2017 ACT Scores & Participation by State\n",
    "* [`act_2018.csv`](./data/act_2018.csv): 2018 ACT Scores & Participation by State\n",
    "* [`act_2019.csv`](./data/act_2019.csv): 2019 ACT Scores & Participation by State\n",
    "* [`act_2021.csv`](./data/act_2021.csv): 2021 ACT Scores & Participation by State\n",
    "* [`sat_2017.csv`](./data/sat_2017.csv): 2017 SAT Scores & Participation by State\n",
    "* [`sat_2018.csv`](./data/sat_2018.csv): 2018 SAT Scores & Participation by State\n",
    "* [`sat_2019.csv`](./data/sat_2019.csv): 2019 SAT Scores & Participation by State\n",
    "* [`sat_2021.csv`](./data/sat_2021.csv): 2021 SAT Scores & Participation by State\n",
    "* [`sat_act_by_college.csv`](./data/sat_act_by_college.csv): Ranges of Accepted ACT & SAT Student Scores by Colleges\n",
    "* [`act_17_18_19_21.csv`](./data/act_17_18_19_21.csv): 2017, 2018, 2019, and 2021 ACT Scores & Participation by State Combined\n",
    "* [`sat_17_18_19_21.csv`](./data/sat_17_18_19_21.csv): 2017, 2018, 2019, and 2021 SAT Scores & Participation by State Combined"
   ]
  },
  {
   "cell_type": "markdown",
   "metadata": {},
   "source": [
    "### Outside Research"
   ]
  },
  {
   "cell_type": "markdown",
   "metadata": {},
   "source": [
    "ACT: https://www.act.org/content/dam/act/unsecured/documents/2021/2021-Average-ACT-Scores-by-State.pdf\n",
    "\n",
    "Data used to create (act_2021.csv).\n",
    "\n",
    "SAT: https://reports.collegeboard.org/sat-suite-program-results/data-archive\n",
    "\n",
    "Data used to create (sat_2021.csv).\n",
    "\n",
    "Department of Education: https://nces.ed.gov/fastfacts/display.asp?id=1122\n",
    "\n",
    "For statement \"According to National Center for Education Statistics (U.S. Department of Education), there are 3,931 colleges in the United States in 2021.\"\n",
    "\n",
    "CNN: https://www.cnn.com/2020/04/14/us/coronavirus-colleges-sat-act-test-trnd/index.html\n",
    "\n",
    "For statement \"The decision to make these tests optional is a response to various factors, including the ongoing debate surrounding the validity and equity of standardized testing, as well as the impact of external circumstances such as the COVID-19 pandemic.\"\n",
    "\n",
    "(ColorBrewer: http://colorbrewer2.org/\n",
    "\n",
    "Coblis: https://www.color-blindness.com/coblis-color-blindness-simulator/\n",
    "\n",
    "Color Oracle: https://colororacle.org/) via ChatGPT\n",
    "\n",
    "(color='#377EB8'),\n",
    "(color='#FF7F00'),\n",
    "(color='#4DAF4A'),\n",
    "(color='#984EA3'),\n",
    "(palette='colorblind'), and\n",
    "(palette='deep')\n",
    "\n",
    "ChatGPT: https://chat.openai.com/\n",
    "\n",
    "Bard: https://bard.google.com/\n",
    "\n",
    "Assisted in rewording my English writing for better readability.\n",
    "\n",
    "Assisted in error troubleshooting and manual tasks such as adding commas to data to create a csv file.\n",
    "\n",
    "Pandas: https://pandas.pydata.org/docs/reference/api/pandas.DataFrame.reset_index.html\n",
    "\n",
    "The .reset_index(drop = True) portion at the end of this code. \"df_act_2018 = df_act_2018.drop_duplicates().reset_index(drop = True)\"\n",
    "\n",
    "Pandas: https://pandas.pydata.org/docs/reference/api/pandas.DataFrame.select_dtypes.html\n",
    "\n",
    "The .select_dtypes(include = [np.number]) portion at the end of this code. \"std_act = {column: standard_deviation(df_act[column]) for column in df_act.select_dtypes(include = [np.number])}\""
   ]
  },
  {
   "cell_type": "markdown",
   "metadata": {
    "tags": []
   },
   "source": [
    "### Coding Challenges\n",
    "\n",
    "1. Manually calculate mean:\n",
    "\n",
    "    Write a function that takes in values and returns the mean of the values. Create a list of numbers that you test on your function to check to make sure your function works!\n",
    "    \n",
    "    *Note*: Do not use any mean methods built-in to any Python libraries to do this! This should be done without importing any additional libraries."
   ]
  },
  {
   "cell_type": "code",
   "execution_count": 539,
   "metadata": {},
   "outputs": [],
   "source": [
    "def mean_machine(numbers):\n",
    "    return sum(numbers) / len(numbers)"
   ]
  },
  {
   "cell_type": "code",
   "execution_count": 540,
   "metadata": {},
   "outputs": [],
   "source": [
    "numbers = [1, 2, 3, 4 , 5]"
   ]
  },
  {
   "cell_type": "code",
   "execution_count": 541,
   "metadata": {},
   "outputs": [
    {
     "data": {
      "text/plain": [
       "3.0"
      ]
     },
     "execution_count": 541,
     "metadata": {},
     "output_type": "execute_result"
    }
   ],
   "source": [
    "mean_machine(numbers)"
   ]
  },
  {
   "cell_type": "markdown",
   "metadata": {},
   "source": [
    "2. Manually calculate standard deviation:\n",
    "\n",
    "    The formula for standard deviation is below:\n",
    "\n",
    "    $$\\sigma = \\sqrt{\\frac{1}{n}\\sum_{i=1}^n(x_i - \\mu)^2}$$\n",
    "\n",
    "    Where $x_i$ represents each value in the dataset, $\\mu$ represents the mean of all values in the dataset and $n$ represents the number of values in the dataset.\n",
    "\n",
    "    Write a function that takes in values and returns the standard deviation of the values using the formula above. Hint: use the function you wrote above to calculate the mean! Use the list of numbers you created above to test on your function.\n",
    "    \n",
    "    *Note*: Do not use any standard deviation methods built-in to any Python libraries to do this! This should be done without importing any additional libraries."
   ]
  },
  {
   "cell_type": "code",
   "execution_count": 542,
   "metadata": {},
   "outputs": [],
   "source": [
    "# calculate the mean of the dataset (already did this with mean_machine(numbers))\n",
    "# subtract the mean from each value in the list and square it for squared differences\n",
    "# add all the squared difference values together\n",
    "# divide the sum total by the number of values for variance\n",
    "# take the square root of everything for standard deviation\n",
    "\n",
    "def standard_deviation(numbers):\n",
    "    mean = mean_machine(numbers)\n",
    "    sdev = (sum((x - mean)**2 for x in numbers) / len(numbers))**0.5\n",
    "    return sdev\n",
    "\n",
    "# CAUTION!!! you have to specify for x in numbers or the function has no idea what to do with the x you've introduced\n",
    "# NameError: name 'x' is not defined"
   ]
  },
  {
   "cell_type": "code",
   "execution_count": 543,
   "metadata": {},
   "outputs": [
    {
     "data": {
      "text/plain": [
       "1.4142135623730951"
      ]
     },
     "execution_count": 543,
     "metadata": {},
     "output_type": "execute_result"
    }
   ],
   "source": [
    "standard_deviation(numbers)"
   ]
  },
  {
   "cell_type": "markdown",
   "metadata": {},
   "source": [
    "3. Data cleaning function:\n",
    "    \n",
    "    Write a function that takes in a string that is a number and a percent symbol (ex. '50%', '30.5%', etc.) and converts this to a float that is the decimal approximation of the percent. For example, inputting '50%' in your function should return 0.5, '30.5%' should return 0.305, etc. Make sure to test your function to make sure it works!\n",
    "\n",
    "You will use these functions later on in the project!"
   ]
  },
  {
   "cell_type": "code",
   "execution_count": 544,
   "metadata": {},
   "outputs": [],
   "source": [
    "# replace the % symbol with empty string so it's just a flat number\n",
    "# convert the string to a float (decimal number)\n",
    "# you have to divide that by 100 or you get 50.0 not 0.5\n",
    "\n",
    "def clean_data(data):\n",
    "    data = data.replace('%', '')\n",
    "    float_data = float(data) / 100\n",
    "    return float_data"
   ]
  },
  {
   "cell_type": "code",
   "execution_count": 545,
   "metadata": {},
   "outputs": [
    {
     "data": {
      "text/plain": [
       "0.5"
      ]
     },
     "execution_count": 545,
     "metadata": {},
     "output_type": "execute_result"
    }
   ],
   "source": [
    "clean_data('50%')"
   ]
  },
  {
   "cell_type": "code",
   "execution_count": 546,
   "metadata": {},
   "outputs": [
    {
     "data": {
      "text/plain": [
       "0.305"
      ]
     },
     "execution_count": 546,
     "metadata": {},
     "output_type": "execute_result"
    }
   ],
   "source": [
    "clean_data('30.5%')"
   ]
  },
  {
   "cell_type": "markdown",
   "metadata": {
    "tags": []
   },
   "source": [
    "---\n",
    "\n",
    "# Part 2\n",
    "\n",
    "Part 2 requires knowledge of Pandas, EDA, data cleaning, and data visualization.\n",
    "\n",
    "---"
   ]
  },
  {
   "cell_type": "code",
   "execution_count": 547,
   "metadata": {},
   "outputs": [],
   "source": [
    "import pandas as pd\n",
    "import numpy as np\n",
    "import matplotlib.pyplot as plt\n",
    "import seaborn as sns\n",
    "import os"
   ]
  },
  {
   "cell_type": "markdown",
   "metadata": {},
   "source": [
    "## Data Import and Cleaning"
   ]
  },
  {
   "cell_type": "markdown",
   "metadata": {},
   "source": [
    "### ACT Scores & Participation by State (2017, 2018, 2019, and 2021)"
   ]
  },
  {
   "cell_type": "code",
   "execution_count": 548,
   "metadata": {},
   "outputs": [
    {
     "data": {
      "text/plain": [
       "'/Users/argishtiovsepyan/DSI-508/Projects/project-1/code'"
      ]
     },
     "execution_count": 548,
     "metadata": {},
     "output_type": "execute_result"
    }
   ],
   "source": [
    "os.getcwd()\n",
    "\n",
    "# '/Users/argishtiovsepyan/DSI-508/Projects/project-1/data' for data location"
   ]
  },
  {
   "cell_type": "code",
   "execution_count": 549,
   "metadata": {},
   "outputs": [],
   "source": [
    "act_2017 = '/Users/argishtiovsepyan/DSI-508/Projects/project-1/data/act_2017.csv'\n",
    "act_2018 = '/Users/argishtiovsepyan/DSI-508/Projects/project-1/data/act_2018.csv'\n",
    "act_2019 = '/Users/argishtiovsepyan/DSI-508/Projects/project-1/data/act_2019.csv'\n",
    "act_2021 = '/Users/argishtiovsepyan/DSI-508/Projects/project-1/data/act_2021.csv'"
   ]
  },
  {
   "cell_type": "code",
   "execution_count": 550,
   "metadata": {},
   "outputs": [],
   "source": [
    "df_act_2017 = pd.read_csv(act_2017)\n",
    "df_act_2018 = pd.read_csv(act_2018)\n",
    "df_act_2019 = pd.read_csv(act_2019)\n",
    "df_act_2021 = pd.read_csv(act_2021)"
   ]
  },
  {
   "cell_type": "code",
   "execution_count": 551,
   "metadata": {},
   "outputs": [
    {
     "data": {
      "text/plain": [
       "(      State Participation  English  Math  Reading  Science Composite\n",
       " 0  National           60%     20.3  20.7     21.4     21.0      21.0,\n",
       "      State Participation  Composite\n",
       " 0  Alabama          100%       19.1,\n",
       "      State Participation  Composite\n",
       " 0  Alabama          100%       18.9,\n",
       "      state 2021_participation  2021_score\n",
       " 0  Alabama               100%        18.7)"
      ]
     },
     "execution_count": 551,
     "metadata": {},
     "output_type": "execute_result"
    }
   ],
   "source": [
    "df_act_2017.head(1), df_act_2018.head(1), df_act_2019.head(1), df_act_2021.head(1)"
   ]
  },
  {
   "cell_type": "code",
   "execution_count": 552,
   "metadata": {},
   "outputs": [
    {
     "data": {
      "text/plain": [
       "((52, 7), (52, 3), (52, 3), (51, 3))"
      ]
     },
     "execution_count": 552,
     "metadata": {},
     "output_type": "execute_result"
    }
   ],
   "source": [
    "df_act_2017.shape, df_act_2018.shape, df_act_2019.shape, df_act_2021.shape"
   ]
  },
  {
   "cell_type": "code",
   "execution_count": 553,
   "metadata": {},
   "outputs": [],
   "source": [
    "act_2017 = df_act_2017.drop(['English', 'Math', 'Reading', 'Science'], axis = 1, inplace = True)"
   ]
  },
  {
   "cell_type": "code",
   "execution_count": 554,
   "metadata": {},
   "outputs": [],
   "source": [
    "df_act_2017.drop([0],inplace = True)\n",
    "df_act_2019.drop([51],inplace = True)"
   ]
  },
  {
   "cell_type": "code",
   "execution_count": 555,
   "metadata": {},
   "outputs": [],
   "source": [
    "df_act_2017.reset_index(drop = True, inplace = True)\n",
    "df_act_2018.reset_index(drop = True, inplace = True)\n",
    "df_act_2019.reset_index(drop = True, inplace = True)\n",
    "df_act_2021.reset_index(drop = True, inplace = True)"
   ]
  },
  {
   "cell_type": "code",
   "execution_count": 556,
   "metadata": {},
   "outputs": [
    {
     "data": {
      "text/plain": [
       "(0, 1, 0)"
      ]
     },
     "execution_count": 556,
     "metadata": {},
     "output_type": "execute_result"
    }
   ],
   "source": [
    "df_act_2017.duplicated().sum(), df_act_2018.duplicated().sum(), df_act_2019.duplicated().sum()"
   ]
  },
  {
   "cell_type": "code",
   "execution_count": 557,
   "metadata": {},
   "outputs": [],
   "source": [
    "df_act_2018 = df_act_2018.drop_duplicates().reset_index(drop = True)"
   ]
  },
  {
   "cell_type": "code",
   "execution_count": 558,
   "metadata": {},
   "outputs": [
    {
     "data": {
      "text/plain": [
       "(0, 0, 0)"
      ]
     },
     "execution_count": 558,
     "metadata": {},
     "output_type": "execute_result"
    }
   ],
   "source": [
    "df_act_2017.duplicated().sum(), df_act_2018.duplicated().sum(), df_act_2019.duplicated().sum()"
   ]
  },
  {
   "cell_type": "code",
   "execution_count": 559,
   "metadata": {},
   "outputs": [
    {
     "data": {
      "text/plain": [
       "(     State Participation Composite\n",
       " 0  Alabama          100%      19.2,\n",
       "      State Participation  Composite\n",
       " 0  Alabama          100%       19.1,\n",
       "      State Participation  Composite\n",
       " 0  Alabama          100%       18.9,\n",
       "      state 2021_participation  2021_score\n",
       " 0  Alabama               100%        18.7)"
      ]
     },
     "execution_count": 559,
     "metadata": {},
     "output_type": "execute_result"
    }
   ],
   "source": [
    "df_act_2017.head(1), df_act_2018.head(1), df_act_2019.head(1), df_act_2021.head(1)"
   ]
  },
  {
   "cell_type": "code",
   "execution_count": 560,
   "metadata": {},
   "outputs": [
    {
     "data": {
      "text/plain": [
       "(      State Participation Composite\n",
       " 50  Wyoming          100%     20.2x,\n",
       "       State Participation  Composite\n",
       " 50  Wyoming          100%       20.0,\n",
       "       State Participation  Composite\n",
       " 50  Wyoming          100%       19.8,\n",
       "       state 2021_participation  2021_score\n",
       " 50  Wyoming                91%        19.8)"
      ]
     },
     "execution_count": 560,
     "metadata": {},
     "output_type": "execute_result"
    }
   ],
   "source": [
    "df_act_2017.tail(1), df_act_2018.tail(1), df_act_2019.tail(1), df_act_2021.tail(1)"
   ]
  },
  {
   "cell_type": "code",
   "execution_count": 561,
   "metadata": {},
   "outputs": [
    {
     "data": {
      "text/plain": [
       "(State            object\n",
       " Participation    object\n",
       " Composite        object\n",
       " dtype: object,\n",
       " State             object\n",
       " Participation     object\n",
       " Composite        float64\n",
       " dtype: object,\n",
       " State             object\n",
       " Participation     object\n",
       " Composite        float64\n",
       " dtype: object,\n",
       " state                  object\n",
       " 2021_participation     object\n",
       " 2021_score            float64\n",
       " dtype: object)"
      ]
     },
     "execution_count": 561,
     "metadata": {},
     "output_type": "execute_result"
    }
   ],
   "source": [
    "df_act_2017.dtypes, df_act_2018.dtypes, df_act_2019.dtypes, df_act_2021.dtypes"
   ]
  },
  {
   "cell_type": "code",
   "execution_count": 562,
   "metadata": {},
   "outputs": [
    {
     "data": {
      "text/plain": [
       "State             object\n",
       "Participation     object\n",
       "Composite        float64\n",
       "dtype: object"
      ]
     },
     "execution_count": 562,
     "metadata": {},
     "output_type": "execute_result"
    }
   ],
   "source": [
    "# df_act_2017['Composite'] = df_act_2017['Composite'].astype(float)\n",
    "# ValueError: could not convert string to float: '20.2x'\n",
    "# Coercing it made Wyoming 20.2x = NaN...\n",
    "\n",
    "df_act_2017['Composite'] = pd.to_numeric(df_act_2017['Composite'], errors = 'coerce')\n",
    "df_act_2017.dtypes"
   ]
  },
  {
   "cell_type": "code",
   "execution_count": 563,
   "metadata": {},
   "outputs": [
    {
     "data": {
      "text/html": [
       "<div>\n",
       "<style scoped>\n",
       "    .dataframe tbody tr th:only-of-type {\n",
       "        vertical-align: middle;\n",
       "    }\n",
       "\n",
       "    .dataframe tbody tr th {\n",
       "        vertical-align: top;\n",
       "    }\n",
       "\n",
       "    .dataframe thead th {\n",
       "        text-align: right;\n",
       "    }\n",
       "</style>\n",
       "<table border=\"1\" class=\"dataframe\">\n",
       "  <thead>\n",
       "    <tr style=\"text-align: right;\">\n",
       "      <th></th>\n",
       "      <th>State</th>\n",
       "      <th>Participation</th>\n",
       "      <th>Composite</th>\n",
       "    </tr>\n",
       "  </thead>\n",
       "  <tbody>\n",
       "    <tr>\n",
       "      <th>48</th>\n",
       "      <td>West Virginia</td>\n",
       "      <td>69%</td>\n",
       "      <td>20.4</td>\n",
       "    </tr>\n",
       "    <tr>\n",
       "      <th>49</th>\n",
       "      <td>Wisconsin</td>\n",
       "      <td>100%</td>\n",
       "      <td>20.5</td>\n",
       "    </tr>\n",
       "    <tr>\n",
       "      <th>50</th>\n",
       "      <td>Wyoming</td>\n",
       "      <td>100%</td>\n",
       "      <td>20.2</td>\n",
       "    </tr>\n",
       "  </tbody>\n",
       "</table>\n",
       "</div>"
      ],
      "text/plain": [
       "            State Participation  Composite\n",
       "48  West Virginia           69%       20.4\n",
       "49      Wisconsin          100%       20.5\n",
       "50        Wyoming          100%       20.2"
      ]
     },
     "execution_count": 563,
     "metadata": {},
     "output_type": "execute_result"
    }
   ],
   "source": [
    "df_act_2017.loc[50, 'Composite'] = 20.2\n",
    "df_act_2017.tail(3)"
   ]
  },
  {
   "cell_type": "code",
   "execution_count": 564,
   "metadata": {},
   "outputs": [],
   "source": [
    "df_act_2018.drop(columns = ['State'], inplace = True)\n",
    "df_act_2019.drop(columns = ['State'], inplace = True)\n",
    "df_act_2021.drop(columns = ['state'], inplace = True)"
   ]
  },
  {
   "cell_type": "code",
   "execution_count": 565,
   "metadata": {},
   "outputs": [],
   "source": [
    "df_act_2017.rename(columns = {'Participation': '2017_participation', 'Composite': '2017_score'}, inplace = True)\n",
    "df_act_2018.rename(columns = {'Participation': '2018_participation', 'Composite': '2018_score'}, inplace = True)\n",
    "df_act_2019.rename(columns = {'Participation': '2019_participation', 'Composite': '2019_score'}, inplace = True)"
   ]
  },
  {
   "cell_type": "code",
   "execution_count": 566,
   "metadata": {},
   "outputs": [
    {
     "data": {
      "text/html": [
       "<div>\n",
       "<style scoped>\n",
       "    .dataframe tbody tr th:only-of-type {\n",
       "        vertical-align: middle;\n",
       "    }\n",
       "\n",
       "    .dataframe tbody tr th {\n",
       "        vertical-align: top;\n",
       "    }\n",
       "\n",
       "    .dataframe thead th {\n",
       "        text-align: right;\n",
       "    }\n",
       "</style>\n",
       "<table border=\"1\" class=\"dataframe\">\n",
       "  <thead>\n",
       "    <tr style=\"text-align: right;\">\n",
       "      <th></th>\n",
       "      <th>state</th>\n",
       "      <th>2017_participation</th>\n",
       "      <th>2017_score</th>\n",
       "      <th>2018_participation</th>\n",
       "      <th>2018_score</th>\n",
       "      <th>2019_participation</th>\n",
       "      <th>2019_score</th>\n",
       "      <th>2021_participation</th>\n",
       "      <th>2021_score</th>\n",
       "    </tr>\n",
       "  </thead>\n",
       "  <tbody>\n",
       "    <tr>\n",
       "      <th>0</th>\n",
       "      <td>Alabama</td>\n",
       "      <td>100%</td>\n",
       "      <td>19.2</td>\n",
       "      <td>100%</td>\n",
       "      <td>19.1</td>\n",
       "      <td>100%</td>\n",
       "      <td>18.9</td>\n",
       "      <td>100%</td>\n",
       "      <td>18.7</td>\n",
       "    </tr>\n",
       "  </tbody>\n",
       "</table>\n",
       "</div>"
      ],
      "text/plain": [
       "     state 2017_participation  2017_score 2018_participation  2018_score  \\\n",
       "0  Alabama               100%        19.2               100%        19.1   \n",
       "\n",
       "  2019_participation  2019_score 2021_participation  2021_score  \n",
       "0               100%        18.9               100%        18.7  "
      ]
     },
     "execution_count": 566,
     "metadata": {},
     "output_type": "execute_result"
    }
   ],
   "source": [
    "df_act = pd.concat([df_act_2017, df_act_2018, df_act_2019, df_act_2021], axis = 1)\n",
    "df_act.rename(columns = {'State': 'state'}, inplace = True)\n",
    "df_act.head(1)"
   ]
  },
  {
   "cell_type": "code",
   "execution_count": 567,
   "metadata": {},
   "outputs": [
    {
     "data": {
      "text/plain": [
       "state                  object\n",
       "2017_participation     object\n",
       "2017_score            float64\n",
       "2018_participation     object\n",
       "2018_score            float64\n",
       "2019_participation     object\n",
       "2019_score            float64\n",
       "2021_participation     object\n",
       "2021_score            float64\n",
       "dtype: object"
      ]
     },
     "execution_count": 567,
     "metadata": {},
     "output_type": "execute_result"
    }
   ],
   "source": [
    "df_act.dtypes"
   ]
  },
  {
   "cell_type": "code",
   "execution_count": 568,
   "metadata": {},
   "outputs": [],
   "source": [
    "df_act['2017_participation'] = df_act['2017_participation'].apply(clean_data)\n",
    "df_act['2018_participation'] = df_act['2018_participation'].apply(clean_data)\n",
    "df_act['2019_participation'] = df_act['2019_participation'].apply(clean_data)\n",
    "df_act['2021_participation'] = df_act['2021_participation'].apply(clean_data)"
   ]
  },
  {
   "cell_type": "code",
   "execution_count": 569,
   "metadata": {},
   "outputs": [
    {
     "data": {
      "text/plain": [
       "state                  object\n",
       "2017_participation    float64\n",
       "2017_score            float64\n",
       "2018_participation    float64\n",
       "2018_score            float64\n",
       "2019_participation    float64\n",
       "2019_score            float64\n",
       "2021_participation    float64\n",
       "2021_score            float64\n",
       "dtype: object"
      ]
     },
     "execution_count": 569,
     "metadata": {},
     "output_type": "execute_result"
    }
   ],
   "source": [
    "df_act.dtypes"
   ]
  },
  {
   "cell_type": "code",
   "execution_count": 570,
   "metadata": {},
   "outputs": [],
   "source": [
    "df_act.to_csv('/Users/argishtiovsepyan/DSI-508/Projects/project-1/data/act_17_18_19_21.csv', index = False)"
   ]
  },
  {
   "cell_type": "code",
   "execution_count": 571,
   "metadata": {},
   "outputs": [
    {
     "data": {
      "text/html": [
       "<div>\n",
       "<style scoped>\n",
       "    .dataframe tbody tr th:only-of-type {\n",
       "        vertical-align: middle;\n",
       "    }\n",
       "\n",
       "    .dataframe tbody tr th {\n",
       "        vertical-align: top;\n",
       "    }\n",
       "\n",
       "    .dataframe thead th {\n",
       "        text-align: right;\n",
       "    }\n",
       "</style>\n",
       "<table border=\"1\" class=\"dataframe\">\n",
       "  <thead>\n",
       "    <tr style=\"text-align: right;\">\n",
       "      <th></th>\n",
       "      <th>state</th>\n",
       "      <th>2017_participation</th>\n",
       "      <th>2017_score</th>\n",
       "      <th>2018_participation</th>\n",
       "      <th>2018_score</th>\n",
       "      <th>2019_participation</th>\n",
       "      <th>2019_score</th>\n",
       "      <th>2021_participation</th>\n",
       "      <th>2021_score</th>\n",
       "    </tr>\n",
       "  </thead>\n",
       "  <tbody>\n",
       "    <tr>\n",
       "      <th>0</th>\n",
       "      <td>Alabama</td>\n",
       "      <td>1.00</td>\n",
       "      <td>19.2</td>\n",
       "      <td>1.00</td>\n",
       "      <td>19.1</td>\n",
       "      <td>1.00</td>\n",
       "      <td>18.9</td>\n",
       "      <td>1.00</td>\n",
       "      <td>18.7</td>\n",
       "    </tr>\n",
       "    <tr>\n",
       "      <th>1</th>\n",
       "      <td>Alaska</td>\n",
       "      <td>0.65</td>\n",
       "      <td>19.8</td>\n",
       "      <td>0.33</td>\n",
       "      <td>20.8</td>\n",
       "      <td>0.38</td>\n",
       "      <td>20.1</td>\n",
       "      <td>0.16</td>\n",
       "      <td>20.6</td>\n",
       "    </tr>\n",
       "    <tr>\n",
       "      <th>2</th>\n",
       "      <td>Arizona</td>\n",
       "      <td>0.62</td>\n",
       "      <td>19.7</td>\n",
       "      <td>0.66</td>\n",
       "      <td>19.2</td>\n",
       "      <td>0.73</td>\n",
       "      <td>19.0</td>\n",
       "      <td>0.35</td>\n",
       "      <td>19.8</td>\n",
       "    </tr>\n",
       "    <tr>\n",
       "      <th>3</th>\n",
       "      <td>Arkansas</td>\n",
       "      <td>1.00</td>\n",
       "      <td>19.4</td>\n",
       "      <td>1.00</td>\n",
       "      <td>19.4</td>\n",
       "      <td>1.00</td>\n",
       "      <td>19.3</td>\n",
       "      <td>0.99</td>\n",
       "      <td>19.0</td>\n",
       "    </tr>\n",
       "    <tr>\n",
       "      <th>4</th>\n",
       "      <td>California</td>\n",
       "      <td>0.31</td>\n",
       "      <td>22.8</td>\n",
       "      <td>0.27</td>\n",
       "      <td>22.7</td>\n",
       "      <td>0.23</td>\n",
       "      <td>22.6</td>\n",
       "      <td>0.05</td>\n",
       "      <td>26.1</td>\n",
       "    </tr>\n",
       "  </tbody>\n",
       "</table>\n",
       "</div>"
      ],
      "text/plain": [
       "        state  2017_participation  2017_score  2018_participation  2018_score  \\\n",
       "0     Alabama                1.00        19.2                1.00        19.1   \n",
       "1      Alaska                0.65        19.8                0.33        20.8   \n",
       "2     Arizona                0.62        19.7                0.66        19.2   \n",
       "3    Arkansas                1.00        19.4                1.00        19.4   \n",
       "4  California                0.31        22.8                0.27        22.7   \n",
       "\n",
       "   2019_participation  2019_score  2021_participation  2021_score  \n",
       "0                1.00        18.9                1.00        18.7  \n",
       "1                0.38        20.1                0.16        20.6  \n",
       "2                0.73        19.0                0.35        19.8  \n",
       "3                1.00        19.3                0.99        19.0  \n",
       "4                0.23        22.6                0.05        26.1  "
      ]
     },
     "execution_count": 571,
     "metadata": {},
     "output_type": "execute_result"
    }
   ],
   "source": [
    "df_act.head()"
   ]
  },
  {
   "cell_type": "markdown",
   "metadata": {},
   "source": [
    "### SAT Scores & Participation by State (2017, 2018, 2019, and 2021)"
   ]
  },
  {
   "cell_type": "code",
   "execution_count": 572,
   "metadata": {},
   "outputs": [],
   "source": [
    "sat_2017 = '/Users/argishtiovsepyan/DSI-508/Projects/project-1/data/sat_2017.csv'\n",
    "sat_2018 = '/Users/argishtiovsepyan/DSI-508/Projects/project-1/data/sat_2018.csv'\n",
    "sat_2019 = '/Users/argishtiovsepyan/DSI-508/Projects/project-1/data/sat_2019.csv'\n",
    "sat_2021 = '/Users/argishtiovsepyan/DSI-508/Projects/project-1/data/sat_2021.csv'"
   ]
  },
  {
   "cell_type": "code",
   "execution_count": 573,
   "metadata": {},
   "outputs": [],
   "source": [
    "df_sat_2017 = pd.read_csv(sat_2017)\n",
    "df_sat_2018 = pd.read_csv(sat_2018)\n",
    "df_sat_2019 = pd.read_csv(sat_2019)\n",
    "df_sat_2021 = pd.read_csv(sat_2021)"
   ]
  },
  {
   "cell_type": "code",
   "execution_count": 574,
   "metadata": {},
   "outputs": [
    {
     "data": {
      "text/plain": [
       "(     State Participation  Evidence-Based Reading and Writing  Math  Total\n",
       " 0  Alabama            5%                                 593   572   1165,\n",
       "      State Participation  Evidence-Based Reading and Writing  Math  Total\n",
       " 0  Alabama            6%                                 595   571   1166,\n",
       "      State Participation Rate  EBRW  Math  Total\n",
       " 0  Alabama                 7%   583   560   1143,\n",
       "      state 2021_participation  2021_score\n",
       " 0  Alabama                 3%        1159)"
      ]
     },
     "execution_count": 574,
     "metadata": {},
     "output_type": "execute_result"
    }
   ],
   "source": [
    "df_sat_2017.head(1), df_sat_2018.head(1), df_sat_2019.head(1), df_sat_2021.head(1)"
   ]
  },
  {
   "cell_type": "code",
   "execution_count": 575,
   "metadata": {},
   "outputs": [],
   "source": [
    "sat_2017 = df_sat_2017.drop(['Evidence-Based Reading and Writing', 'Math'], axis = 1, inplace = True)\n",
    "sat_2018 = df_sat_2018.drop(['Evidence-Based Reading and Writing', 'Math'], axis = 1, inplace = True)\n",
    "sat_2019 = df_sat_2019.drop(['EBRW', 'Math'], axis = 1, inplace = True)"
   ]
  },
  {
   "cell_type": "code",
   "execution_count": 576,
   "metadata": {},
   "outputs": [
    {
     "data": {
      "text/plain": [
       "(     State Participation  Total\n",
       " 0  Alabama            5%   1165,\n",
       "      State Participation  Total\n",
       " 0  Alabama            6%   1166,\n",
       "      State Participation Rate  Total\n",
       " 0  Alabama                 7%   1143,\n",
       "      state 2021_participation  2021_score\n",
       " 0  Alabama                 3%        1159)"
      ]
     },
     "execution_count": 576,
     "metadata": {},
     "output_type": "execute_result"
    }
   ],
   "source": [
    "df_sat_2017.head(1), df_sat_2018.head(1), df_sat_2019.head(1), df_sat_2021.head(1)"
   ]
  },
  {
   "cell_type": "code",
   "execution_count": 577,
   "metadata": {},
   "outputs": [
    {
     "data": {
      "text/plain": [
       "((51, 3), (51, 3), (53, 3), (51, 3))"
      ]
     },
     "execution_count": 577,
     "metadata": {},
     "output_type": "execute_result"
    }
   ],
   "source": [
    "df_sat_2017.shape, df_sat_2018.shape, df_sat_2019.shape, df_sat_2021.shape"
   ]
  },
  {
   "cell_type": "code",
   "execution_count": 578,
   "metadata": {},
   "outputs": [
    {
     "data": {
      "text/plain": [
       "(State                  object\n",
       " 2017_participation     object\n",
       " 2017_score            float64\n",
       " dtype: object,\n",
       " 2018_participation     object\n",
       " 2018_score            float64\n",
       " dtype: object,\n",
       " 2019_participation     object\n",
       " 2019_score            float64\n",
       " dtype: object,\n",
       " 2021_participation     object\n",
       " 2021_score            float64\n",
       " dtype: object)"
      ]
     },
     "execution_count": 578,
     "metadata": {},
     "output_type": "execute_result"
    }
   ],
   "source": [
    "df_act_2017.dtypes, df_act_2018.dtypes, df_act_2019.dtypes, df_act_2021.dtypes"
   ]
  },
  {
   "cell_type": "code",
   "execution_count": 579,
   "metadata": {},
   "outputs": [
    {
     "data": {
      "text/plain": [
       "(0, 0, 0)"
      ]
     },
     "execution_count": 579,
     "metadata": {},
     "output_type": "execute_result"
    }
   ],
   "source": [
    "df_sat_2017.duplicated().sum(), df_sat_2018.duplicated().sum(), df_sat_2019.duplicated().sum()"
   ]
  },
  {
   "cell_type": "code",
   "execution_count": 580,
   "metadata": {},
   "outputs": [],
   "source": [
    "df_sat_2019.drop([39, 47],inplace = True)"
   ]
  },
  {
   "cell_type": "code",
   "execution_count": 581,
   "metadata": {},
   "outputs": [],
   "source": [
    "df_sat_2019.reset_index(drop = True, inplace = True)"
   ]
  },
  {
   "cell_type": "code",
   "execution_count": 582,
   "metadata": {},
   "outputs": [],
   "source": [
    "df_sat_2018.drop(columns = ['State'], inplace = True)\n",
    "df_sat_2019.drop(columns = ['State'], inplace = True)\n",
    "df_sat_2021.drop(columns = ['state'], inplace = True)"
   ]
  },
  {
   "cell_type": "code",
   "execution_count": 583,
   "metadata": {},
   "outputs": [],
   "source": [
    "df_sat_2017.rename(columns = {'Participation': '2017_participation', 'Total': '2017_score'}, inplace = True)\n",
    "df_sat_2018.rename(columns = {'Participation': '2018_participation', 'Total': '2018_score'}, inplace = True)\n",
    "df_sat_2019.rename(columns = {'Participation Rate': '2019_participation', 'Total': '2019_score'}, inplace = True)"
   ]
  },
  {
   "cell_type": "code",
   "execution_count": 584,
   "metadata": {},
   "outputs": [
    {
     "data": {
      "text/html": [
       "<div>\n",
       "<style scoped>\n",
       "    .dataframe tbody tr th:only-of-type {\n",
       "        vertical-align: middle;\n",
       "    }\n",
       "\n",
       "    .dataframe tbody tr th {\n",
       "        vertical-align: top;\n",
       "    }\n",
       "\n",
       "    .dataframe thead th {\n",
       "        text-align: right;\n",
       "    }\n",
       "</style>\n",
       "<table border=\"1\" class=\"dataframe\">\n",
       "  <thead>\n",
       "    <tr style=\"text-align: right;\">\n",
       "      <th></th>\n",
       "      <th>state</th>\n",
       "      <th>2017_participation</th>\n",
       "      <th>2017_score</th>\n",
       "      <th>2018_participation</th>\n",
       "      <th>2018_score</th>\n",
       "      <th>2019_participation</th>\n",
       "      <th>2019_score</th>\n",
       "      <th>2021_participation</th>\n",
       "      <th>2021_score</th>\n",
       "    </tr>\n",
       "  </thead>\n",
       "  <tbody>\n",
       "    <tr>\n",
       "      <th>0</th>\n",
       "      <td>Alabama</td>\n",
       "      <td>5%</td>\n",
       "      <td>1165</td>\n",
       "      <td>6%</td>\n",
       "      <td>1166</td>\n",
       "      <td>7%</td>\n",
       "      <td>1143</td>\n",
       "      <td>3%</td>\n",
       "      <td>1159</td>\n",
       "    </tr>\n",
       "  </tbody>\n",
       "</table>\n",
       "</div>"
      ],
      "text/plain": [
       "     state 2017_participation  2017_score 2018_participation  2018_score  \\\n",
       "0  Alabama                 5%        1165                 6%        1166   \n",
       "\n",
       "  2019_participation  2019_score 2021_participation  2021_score  \n",
       "0                 7%        1143                 3%        1159  "
      ]
     },
     "execution_count": 584,
     "metadata": {},
     "output_type": "execute_result"
    }
   ],
   "source": [
    "df_sat = pd.concat([df_sat_2017, df_sat_2018, df_sat_2019, df_sat_2021], axis = 1)\n",
    "df_sat.rename(columns = {'State': 'state'}, inplace = True)\n",
    "df_sat.head(1)"
   ]
  },
  {
   "cell_type": "code",
   "execution_count": 585,
   "metadata": {},
   "outputs": [
    {
     "data": {
      "text/plain": [
       "state                 object\n",
       "2017_participation    object\n",
       "2017_score             int64\n",
       "2018_participation    object\n",
       "2018_score             int64\n",
       "2019_participation    object\n",
       "2019_score             int64\n",
       "2021_participation    object\n",
       "2021_score             int64\n",
       "dtype: object"
      ]
     },
     "execution_count": 585,
     "metadata": {},
     "output_type": "execute_result"
    }
   ],
   "source": [
    "df_sat.dtypes"
   ]
  },
  {
   "cell_type": "code",
   "execution_count": 586,
   "metadata": {},
   "outputs": [],
   "source": [
    "df_sat['2017_participation'] = df_sat['2017_participation'].apply(clean_data)\n",
    "df_sat['2018_participation'] = df_sat['2018_participation'].apply(clean_data)\n",
    "df_sat['2019_participation'] = df_sat['2019_participation'].apply(clean_data)\n",
    "df_sat['2021_participation'] = df_sat['2021_participation'].apply(clean_data)"
   ]
  },
  {
   "cell_type": "code",
   "execution_count": 587,
   "metadata": {},
   "outputs": [
    {
     "data": {
      "text/plain": [
       "state                  object\n",
       "2017_participation    float64\n",
       "2017_score              int64\n",
       "2018_participation    float64\n",
       "2018_score              int64\n",
       "2019_participation    float64\n",
       "2019_score              int64\n",
       "2021_participation    float64\n",
       "2021_score              int64\n",
       "dtype: object"
      ]
     },
     "execution_count": 587,
     "metadata": {},
     "output_type": "execute_result"
    }
   ],
   "source": [
    "df_sat.dtypes"
   ]
  },
  {
   "cell_type": "code",
   "execution_count": 588,
   "metadata": {},
   "outputs": [],
   "source": [
    "df_sat.to_csv('/Users/argishtiovsepyan/DSI-508/Projects/project-1/data/sat_17_18_19_21.csv', index = False)"
   ]
  },
  {
   "cell_type": "code",
   "execution_count": 589,
   "metadata": {},
   "outputs": [
    {
     "data": {
      "text/html": [
       "<div>\n",
       "<style scoped>\n",
       "    .dataframe tbody tr th:only-of-type {\n",
       "        vertical-align: middle;\n",
       "    }\n",
       "\n",
       "    .dataframe tbody tr th {\n",
       "        vertical-align: top;\n",
       "    }\n",
       "\n",
       "    .dataframe thead th {\n",
       "        text-align: right;\n",
       "    }\n",
       "</style>\n",
       "<table border=\"1\" class=\"dataframe\">\n",
       "  <thead>\n",
       "    <tr style=\"text-align: right;\">\n",
       "      <th></th>\n",
       "      <th>state</th>\n",
       "      <th>2017_participation</th>\n",
       "      <th>2017_score</th>\n",
       "      <th>2018_participation</th>\n",
       "      <th>2018_score</th>\n",
       "      <th>2019_participation</th>\n",
       "      <th>2019_score</th>\n",
       "      <th>2021_participation</th>\n",
       "      <th>2021_score</th>\n",
       "    </tr>\n",
       "  </thead>\n",
       "  <tbody>\n",
       "    <tr>\n",
       "      <th>0</th>\n",
       "      <td>Alabama</td>\n",
       "      <td>0.05</td>\n",
       "      <td>1165</td>\n",
       "      <td>0.06</td>\n",
       "      <td>1166</td>\n",
       "      <td>0.07</td>\n",
       "      <td>1143</td>\n",
       "      <td>0.03</td>\n",
       "      <td>1159</td>\n",
       "    </tr>\n",
       "    <tr>\n",
       "      <th>1</th>\n",
       "      <td>Alaska</td>\n",
       "      <td>0.38</td>\n",
       "      <td>1080</td>\n",
       "      <td>0.43</td>\n",
       "      <td>1106</td>\n",
       "      <td>0.41</td>\n",
       "      <td>1097</td>\n",
       "      <td>0.23</td>\n",
       "      <td>1119</td>\n",
       "    </tr>\n",
       "    <tr>\n",
       "      <th>2</th>\n",
       "      <td>Arizona</td>\n",
       "      <td>0.30</td>\n",
       "      <td>1116</td>\n",
       "      <td>0.29</td>\n",
       "      <td>1149</td>\n",
       "      <td>0.31</td>\n",
       "      <td>1134</td>\n",
       "      <td>0.11</td>\n",
       "      <td>1181</td>\n",
       "    </tr>\n",
       "    <tr>\n",
       "      <th>3</th>\n",
       "      <td>Arkansas</td>\n",
       "      <td>0.03</td>\n",
       "      <td>1208</td>\n",
       "      <td>0.05</td>\n",
       "      <td>1169</td>\n",
       "      <td>0.06</td>\n",
       "      <td>1141</td>\n",
       "      <td>0.02</td>\n",
       "      <td>1194</td>\n",
       "    </tr>\n",
       "    <tr>\n",
       "      <th>4</th>\n",
       "      <td>California</td>\n",
       "      <td>0.53</td>\n",
       "      <td>1055</td>\n",
       "      <td>0.60</td>\n",
       "      <td>1076</td>\n",
       "      <td>0.63</td>\n",
       "      <td>1065</td>\n",
       "      <td>0.24</td>\n",
       "      <td>1057</td>\n",
       "    </tr>\n",
       "  </tbody>\n",
       "</table>\n",
       "</div>"
      ],
      "text/plain": [
       "        state  2017_participation  2017_score  2018_participation  2018_score  \\\n",
       "0     Alabama                0.05        1165                0.06        1166   \n",
       "1      Alaska                0.38        1080                0.43        1106   \n",
       "2     Arizona                0.30        1116                0.29        1149   \n",
       "3    Arkansas                0.03        1208                0.05        1169   \n",
       "4  California                0.53        1055                0.60        1076   \n",
       "\n",
       "   2019_participation  2019_score  2021_participation  2021_score  \n",
       "0                0.07        1143                0.03        1159  \n",
       "1                0.41        1097                0.23        1119  \n",
       "2                0.31        1134                0.11        1181  \n",
       "3                0.06        1141                0.02        1194  \n",
       "4                0.63        1065                0.24        1057  "
      ]
     },
     "execution_count": 589,
     "metadata": {},
     "output_type": "execute_result"
    }
   ],
   "source": [
    "df_sat.head()"
   ]
  },
  {
   "cell_type": "markdown",
   "metadata": {},
   "source": [
    "### SAT & ACT Optional Participation"
   ]
  },
  {
   "cell_type": "code",
   "execution_count": 590,
   "metadata": {},
   "outputs": [],
   "source": [
    "sat_act_2021_optional = '/Users/argishtiovsepyan/DSI-508/Projects/project-1/data/sat_act_by_college.csv'"
   ]
  },
  {
   "cell_type": "code",
   "execution_count": 591,
   "metadata": {},
   "outputs": [],
   "source": [
    "df_sat_act_2021_optional = pd.read_csv(sat_act_2021_optional)"
   ]
  },
  {
   "cell_type": "code",
   "execution_count": 592,
   "metadata": {},
   "outputs": [
    {
     "data": {
      "text/plain": [
       "(416, 8)"
      ]
     },
     "execution_count": 592,
     "metadata": {},
     "output_type": "execute_result"
    }
   ],
   "source": [
    "df_sat_act_2021_optional.shape"
   ]
  },
  {
   "cell_type": "code",
   "execution_count": 593,
   "metadata": {},
   "outputs": [
    {
     "data": {
      "text/plain": [
       "School                            object\n",
       "Test Optional?                    object\n",
       "Applies to Class Year(s)          object\n",
       "Policy Details                    object\n",
       "Number of Applicants               int64\n",
       "Accept Rate                       object\n",
       "SAT Total 25th-75th Percentile    object\n",
       "ACT Total 25th-75th Percentile    object\n",
       "dtype: object"
      ]
     },
     "execution_count": 593,
     "metadata": {},
     "output_type": "execute_result"
    }
   ],
   "source": [
    "df_sat_act_2021_optional.dtypes"
   ]
  },
  {
   "cell_type": "code",
   "execution_count": 594,
   "metadata": {},
   "outputs": [
    {
     "data": {
      "text/plain": [
       "0"
      ]
     },
     "execution_count": 594,
     "metadata": {},
     "output_type": "execute_result"
    }
   ],
   "source": [
    "df_sat_act_2021_optional.duplicated().sum()"
   ]
  },
  {
   "cell_type": "code",
   "execution_count": 595,
   "metadata": {},
   "outputs": [
    {
     "data": {
      "text/html": [
       "<div>\n",
       "<style scoped>\n",
       "    .dataframe tbody tr th:only-of-type {\n",
       "        vertical-align: middle;\n",
       "    }\n",
       "\n",
       "    .dataframe tbody tr th {\n",
       "        vertical-align: top;\n",
       "    }\n",
       "\n",
       "    .dataframe thead th {\n",
       "        text-align: right;\n",
       "    }\n",
       "</style>\n",
       "<table border=\"1\" class=\"dataframe\">\n",
       "  <thead>\n",
       "    <tr style=\"text-align: right;\">\n",
       "      <th></th>\n",
       "      <th>School</th>\n",
       "      <th>Test Optional?</th>\n",
       "      <th>Applies to Class Year(s)</th>\n",
       "      <th>Policy Details</th>\n",
       "      <th>Number of Applicants</th>\n",
       "      <th>Accept Rate</th>\n",
       "      <th>SAT Total 25th-75th Percentile</th>\n",
       "      <th>ACT Total 25th-75th Percentile</th>\n",
       "    </tr>\n",
       "  </thead>\n",
       "  <tbody>\n",
       "    <tr>\n",
       "      <th>0</th>\n",
       "      <td>Stanford University</td>\n",
       "      <td>Yes</td>\n",
       "      <td>2021</td>\n",
       "      <td>Stanford has adopted a one-year test optional ...</td>\n",
       "      <td>47452</td>\n",
       "      <td>4.3%</td>\n",
       "      <td>1440-1570</td>\n",
       "      <td>32-35</td>\n",
       "    </tr>\n",
       "  </tbody>\n",
       "</table>\n",
       "</div>"
      ],
      "text/plain": [
       "                School Test Optional? Applies to Class Year(s)  \\\n",
       "0  Stanford University            Yes                     2021   \n",
       "\n",
       "                                      Policy Details  Number of Applicants  \\\n",
       "0  Stanford has adopted a one-year test optional ...                 47452   \n",
       "\n",
       "  Accept Rate SAT Total 25th-75th Percentile ACT Total 25th-75th Percentile  \n",
       "0        4.3%                      1440-1570                          32-35  "
      ]
     },
     "execution_count": 595,
     "metadata": {},
     "output_type": "execute_result"
    }
   ],
   "source": [
    "df_sat_act_2021_optional.head(1)"
   ]
  },
  {
   "cell_type": "code",
   "execution_count": 596,
   "metadata": {},
   "outputs": [],
   "source": [
    "sat_act_2021_optional = df_sat_act_2021_optional.drop(['Applies to Class Year(s)', 'Policy Details', 'Number of Applicants', 'Accept Rate', 'SAT Total 25th-75th Percentile', 'ACT Total 25th-75th Percentile'], axis = 1, inplace = True)"
   ]
  },
  {
   "cell_type": "code",
   "execution_count": 597,
   "metadata": {},
   "outputs": [],
   "source": [
    "df_sat_act_2021_optional.rename(columns = {'School':'school', 'Test Optional?':'test_optional'}, inplace = True)"
   ]
  },
  {
   "cell_type": "code",
   "execution_count": 598,
   "metadata": {},
   "outputs": [
    {
     "data": {
      "text/html": [
       "<div>\n",
       "<style scoped>\n",
       "    .dataframe tbody tr th:only-of-type {\n",
       "        vertical-align: middle;\n",
       "    }\n",
       "\n",
       "    .dataframe tbody tr th {\n",
       "        vertical-align: top;\n",
       "    }\n",
       "\n",
       "    .dataframe thead th {\n",
       "        text-align: right;\n",
       "    }\n",
       "</style>\n",
       "<table border=\"1\" class=\"dataframe\">\n",
       "  <thead>\n",
       "    <tr style=\"text-align: right;\">\n",
       "      <th></th>\n",
       "      <th>school</th>\n",
       "      <th>test_optional</th>\n",
       "    </tr>\n",
       "  </thead>\n",
       "  <tbody>\n",
       "    <tr>\n",
       "      <th>0</th>\n",
       "      <td>Stanford University</td>\n",
       "      <td>Yes</td>\n",
       "    </tr>\n",
       "    <tr>\n",
       "      <th>1</th>\n",
       "      <td>Harvard College</td>\n",
       "      <td>Yes</td>\n",
       "    </tr>\n",
       "    <tr>\n",
       "      <th>2</th>\n",
       "      <td>Princeton University</td>\n",
       "      <td>Yes</td>\n",
       "    </tr>\n",
       "    <tr>\n",
       "      <th>3</th>\n",
       "      <td>Columbia University</td>\n",
       "      <td>Yes</td>\n",
       "    </tr>\n",
       "    <tr>\n",
       "      <th>4</th>\n",
       "      <td>Yale University</td>\n",
       "      <td>Yes</td>\n",
       "    </tr>\n",
       "  </tbody>\n",
       "</table>\n",
       "</div>"
      ],
      "text/plain": [
       "                 school test_optional\n",
       "0   Stanford University           Yes\n",
       "1       Harvard College           Yes\n",
       "2  Princeton University           Yes\n",
       "3   Columbia University           Yes\n",
       "4       Yale University           Yes"
      ]
     },
     "execution_count": 598,
     "metadata": {},
     "output_type": "execute_result"
    }
   ],
   "source": [
    "df_sat_act_2021_optional.head()"
   ]
  },
  {
   "cell_type": "markdown",
   "metadata": {},
   "source": [
    "### Data Dictionary\n",
    "\n",
    "| Feature | Type | Dataset | Description |\n",
    "|---------|------|---------|-------------|\n",
    "| year | integer | ACT/SAT Data | The year the data was collected (2017, 2018, 2019, 2021). |\n",
    "| act_participation | float | ACT Data | The percentage of students participating in the ACT test in the given year. |\n",
    "| sat_participation | float | SAT Data | The percentage of students participating in the SAT test in the given year. |\n",
    "| act_scores | float | ACT Data | The average ACT test score in the given year. |\n",
    "| sat_scores | integer | SAT Data | The average SAT test score in the given year. |\n",
    "| test_requirement | boolean | College Policy Data | Indicates if the ACT/SAT test was required (True) or optional (False) in the given year."
   ]
  },
  {
   "cell_type": "markdown",
   "metadata": {},
   "source": [
    "## Exploratory Data Analysis\n",
    "\n",
    "Complete the following steps to explore your data. You are welcome to do more EDA than the steps outlined here as you feel necessary:\n",
    "1. Summary Statistics.\n",
    "2. Use a **dictionary comprehension** to apply the standard deviation function you create in part 1 to each numeric column in the dataframe.  **No loops**.\n",
    "    - Assign the output to variable `sd` as a dictionary where: \n",
    "        - Each column name is now a key \n",
    "        - That standard deviation of the column is the value \n",
    "        - *Example Output :* `{'ACT_Math': 120, 'ACT_Reading': 120, ...}`\n",
    "3. Investigate trends in the data.\n",
    "    - Using sorting and/or masking (along with the `.head()` method to avoid printing our entire dataframe), consider questions relevant to your problem statement. Some examples are provided below (but feel free to change these questions for your specific problem):\n",
    "        - Which states have the highest and lowest participation rates for the 2017, 2019, or 2019 SAT and ACT?\n",
    "        - Which states have the highest and lowest mean total/composite scores for the 2017, 2019, or 2019 SAT and ACT?\n",
    "        - Do any states with 100% participation on a given test have a rate change year-to-year?\n",
    "        - Do any states show have >50% participation on *both* tests each year?\n",
    "        - Which colleges have the highest median SAT and ACT scores for admittance?\n",
    "        - Which California school districts have the highest and lowest mean test scores?\n",
    "    - **You should comment on your findings at each step in a markdown cell below your code block**. Make sure you include at least one example of sorting your dataframe by a column, and one example of using boolean filtering (i.e., masking) to select a subset of the dataframe."
   ]
  },
  {
   "cell_type": "code",
   "execution_count": 599,
   "metadata": {},
   "outputs": [],
   "source": [
    "# assign a new dictionary to a variable like 'sd'\n",
    "# create key value pairs like 'ACT_math': 120\n",
    "# go through each column only in data types that are numbers (integers and floats)\n",
    "\n",
    "std_act = {column: standard_deviation(df_act[column]) for column in df_act.select_dtypes(include = [np.number])}"
   ]
  },
  {
   "cell_type": "code",
   "execution_count": 600,
   "metadata": {},
   "outputs": [
    {
     "data": {
      "text/plain": [
       "{'2017_participation': 0.3182417575123181,\n",
       " '2017_score': 2.000786081581989,\n",
       " '2018_participation': 0.33701735820410317,\n",
       " '2018_score': 2.090779082141178,\n",
       " '2019_participation': 0.3417582373703047,\n",
       " '2019_score': 2.172901153595978,\n",
       " '2021_participation': 0.3658099459699665,\n",
       " '2021_score': 2.8819140655606708}"
      ]
     },
     "execution_count": 600,
     "metadata": {},
     "output_type": "execute_result"
    }
   ],
   "source": [
    "std_act"
   ]
  },
  {
   "cell_type": "code",
   "execution_count": 601,
   "metadata": {},
   "outputs": [],
   "source": [
    "std_sat = {column: standard_deviation(df_sat[column]) for column in df_sat.select_dtypes(include = [np.number])}"
   ]
  },
  {
   "cell_type": "code",
   "execution_count": 602,
   "metadata": {},
   "outputs": [
    {
     "data": {
      "text/plain": [
       "{'2017_participation': 0.3492907076664507,\n",
       " '2017_score': 91.58351056778743,\n",
       " '2018_participation': 0.3694661922353942,\n",
       " '2018_score': 93.22742384464433,\n",
       " '2019_participation': 0.3836584048685726,\n",
       " '2019_score': 96.24027185617864,\n",
       " '2021_participation': 0.2870813234512301,\n",
       " '2021_score': 87.49095191313594}"
      ]
     },
     "execution_count": 602,
     "metadata": {},
     "output_type": "execute_result"
    }
   ],
   "source": [
    "std_sat"
   ]
  },
  {
   "cell_type": "code",
   "execution_count": 603,
   "metadata": {},
   "outputs": [],
   "source": [
    "mean_act = {column: mean_machine(df_act[column]) for column in df_act.select_dtypes(include = [np.number])}"
   ]
  },
  {
   "cell_type": "code",
   "execution_count": 604,
   "metadata": {},
   "outputs": [
    {
     "data": {
      "text/plain": [
       "{'2017_participation': 0.6525490196078431,\n",
       " '2017_score': 21.519607843137255,\n",
       " '2018_participation': 0.6172549019607843,\n",
       " '2018_score': 21.49607843137255,\n",
       " '2019_participation': 0.5866666666666667,\n",
       " '2019_score': 21.464705882352934,\n",
       " '2021_participation': 0.44549019607843127,\n",
       " '2021_score': 22.007843137254905}"
      ]
     },
     "execution_count": 604,
     "metadata": {},
     "output_type": "execute_result"
    }
   ],
   "source": [
    "mean_act"
   ]
  },
  {
   "cell_type": "code",
   "execution_count": 605,
   "metadata": {},
   "outputs": [],
   "source": [
    "mean_sat = {column: mean_machine(df_sat[column]) for column in df_act.select_dtypes(include = [np.number])}"
   ]
  },
  {
   "cell_type": "code",
   "execution_count": 606,
   "metadata": {},
   "outputs": [
    {
     "data": {
      "text/plain": [
       "{'2017_participation': 0.39803921568627454,\n",
       " '2017_score': 1126.0980392156862,\n",
       " '2018_participation': 0.45745098039215676,\n",
       " '2018_score': 1120.0196078431372,\n",
       " '2019_participation': 0.49058823529411755,\n",
       " '2019_score': 1113.078431372549,\n",
       " '2021_participation': 0.30999999999999994,\n",
       " '2021_score': 1123.0}"
      ]
     },
     "execution_count": 606,
     "metadata": {},
     "output_type": "execute_result"
    }
   ],
   "source": [
    "mean_sat"
   ]
  },
  {
   "cell_type": "code",
   "execution_count": 607,
   "metadata": {},
   "outputs": [
    {
     "data": {
      "text/plain": [
       "array(['Yes', 'Yes (TB)', 'Yes*', 'Yes (TF)', 'No'], dtype=object)"
      ]
     },
     "execution_count": 607,
     "metadata": {},
     "output_type": "execute_result"
    }
   ],
   "source": [
    "df_sat_act_2021_optional['test_optional'].unique()"
   ]
  },
  {
   "cell_type": "code",
   "execution_count": 608,
   "metadata": {},
   "outputs": [
    {
     "data": {
      "text/plain": [
       "26"
      ]
     },
     "execution_count": 608,
     "metadata": {},
     "output_type": "execute_result"
    }
   ],
   "source": [
    "df_sat_act_2021_optional['test_optional'].value_counts()['No']"
   ]
  },
  {
   "cell_type": "code",
   "execution_count": 609,
   "metadata": {},
   "outputs": [
    {
     "name": "stdout",
     "output_type": "stream",
     "text": [
      "Test Optional = 93.75 %\n"
     ]
    }
   ],
   "source": [
    "tests_optional = 100 - ((26/416) * 100)\n",
    "print(f\"Test Optional = {tests_optional} %\")"
   ]
  },
  {
   "cell_type": "code",
   "execution_count": 610,
   "metadata": {},
   "outputs": [
    {
     "name": "stdout",
     "output_type": "stream",
     "text": [
      "Sample Size = 10.58 %\n"
     ]
    }
   ],
   "source": [
    "# According to National Center for Education Statistics (U.S. Department of Education), there are 3,931 colleges in the United States in 2021.\n",
    "\n",
    "sample_size = ((416/3931) * 100)\n",
    "print(f\"Sample Size = {round(sample_size, 2)} %\")"
   ]
  },
  {
   "cell_type": "code",
   "execution_count": 611,
   "metadata": {},
   "outputs": [
    {
     "data": {
      "text/html": [
       "<div>\n",
       "<style scoped>\n",
       "    .dataframe tbody tr th:only-of-type {\n",
       "        vertical-align: middle;\n",
       "    }\n",
       "\n",
       "    .dataframe tbody tr th {\n",
       "        vertical-align: top;\n",
       "    }\n",
       "\n",
       "    .dataframe thead th {\n",
       "        text-align: right;\n",
       "    }\n",
       "</style>\n",
       "<table border=\"1\" class=\"dataframe\">\n",
       "  <thead>\n",
       "    <tr style=\"text-align: right;\">\n",
       "      <th></th>\n",
       "      <th>state</th>\n",
       "      <th>2017_participation</th>\n",
       "    </tr>\n",
       "  </thead>\n",
       "  <tbody>\n",
       "    <tr>\n",
       "      <th>0</th>\n",
       "      <td>California</td>\n",
       "      <td>0.53</td>\n",
       "    </tr>\n",
       "    <tr>\n",
       "      <th>1</th>\n",
       "      <td>Connecticut</td>\n",
       "      <td>1.00</td>\n",
       "    </tr>\n",
       "    <tr>\n",
       "      <th>2</th>\n",
       "      <td>Delaware</td>\n",
       "      <td>1.00</td>\n",
       "    </tr>\n",
       "    <tr>\n",
       "      <th>3</th>\n",
       "      <td>District of Columbia</td>\n",
       "      <td>1.00</td>\n",
       "    </tr>\n",
       "    <tr>\n",
       "      <th>4</th>\n",
       "      <td>Florida</td>\n",
       "      <td>0.83</td>\n",
       "    </tr>\n",
       "    <tr>\n",
       "      <th>5</th>\n",
       "      <td>Georgia</td>\n",
       "      <td>0.61</td>\n",
       "    </tr>\n",
       "    <tr>\n",
       "      <th>6</th>\n",
       "      <td>Hawaii</td>\n",
       "      <td>0.55</td>\n",
       "    </tr>\n",
       "    <tr>\n",
       "      <th>7</th>\n",
       "      <td>Idaho</td>\n",
       "      <td>0.93</td>\n",
       "    </tr>\n",
       "    <tr>\n",
       "      <th>8</th>\n",
       "      <td>Indiana</td>\n",
       "      <td>0.63</td>\n",
       "    </tr>\n",
       "    <tr>\n",
       "      <th>9</th>\n",
       "      <td>Maine</td>\n",
       "      <td>0.95</td>\n",
       "    </tr>\n",
       "    <tr>\n",
       "      <th>10</th>\n",
       "      <td>Maryland</td>\n",
       "      <td>0.69</td>\n",
       "    </tr>\n",
       "    <tr>\n",
       "      <th>11</th>\n",
       "      <td>Massachusetts</td>\n",
       "      <td>0.76</td>\n",
       "    </tr>\n",
       "    <tr>\n",
       "      <th>12</th>\n",
       "      <td>Michigan</td>\n",
       "      <td>1.00</td>\n",
       "    </tr>\n",
       "    <tr>\n",
       "      <th>13</th>\n",
       "      <td>New Hampshire</td>\n",
       "      <td>0.96</td>\n",
       "    </tr>\n",
       "    <tr>\n",
       "      <th>14</th>\n",
       "      <td>New Jersey</td>\n",
       "      <td>0.70</td>\n",
       "    </tr>\n",
       "    <tr>\n",
       "      <th>15</th>\n",
       "      <td>New York</td>\n",
       "      <td>0.67</td>\n",
       "    </tr>\n",
       "    <tr>\n",
       "      <th>16</th>\n",
       "      <td>Pennsylvania</td>\n",
       "      <td>0.65</td>\n",
       "    </tr>\n",
       "    <tr>\n",
       "      <th>17</th>\n",
       "      <td>Rhode Island</td>\n",
       "      <td>0.71</td>\n",
       "    </tr>\n",
       "    <tr>\n",
       "      <th>18</th>\n",
       "      <td>Texas</td>\n",
       "      <td>0.62</td>\n",
       "    </tr>\n",
       "    <tr>\n",
       "      <th>19</th>\n",
       "      <td>Vermont</td>\n",
       "      <td>0.60</td>\n",
       "    </tr>\n",
       "    <tr>\n",
       "      <th>20</th>\n",
       "      <td>Virginia</td>\n",
       "      <td>0.65</td>\n",
       "    </tr>\n",
       "    <tr>\n",
       "      <th>21</th>\n",
       "      <td>Washington</td>\n",
       "      <td>0.64</td>\n",
       "    </tr>\n",
       "  </tbody>\n",
       "</table>\n",
       "</div>"
      ],
      "text/plain": [
       "                   state  2017_participation\n",
       "0             California                0.53\n",
       "1            Connecticut                1.00\n",
       "2               Delaware                1.00\n",
       "3   District of Columbia                1.00\n",
       "4                Florida                0.83\n",
       "5                Georgia                0.61\n",
       "6                 Hawaii                0.55\n",
       "7                  Idaho                0.93\n",
       "8                Indiana                0.63\n",
       "9                  Maine                0.95\n",
       "10              Maryland                0.69\n",
       "11         Massachusetts                0.76\n",
       "12              Michigan                1.00\n",
       "13         New Hampshire                0.96\n",
       "14            New Jersey                0.70\n",
       "15              New York                0.67\n",
       "16          Pennsylvania                0.65\n",
       "17          Rhode Island                0.71\n",
       "18                 Texas                0.62\n",
       "19               Vermont                0.60\n",
       "20              Virginia                0.65\n",
       "21            Washington                0.64"
      ]
     },
     "execution_count": 611,
     "metadata": {},
     "output_type": "execute_result"
    }
   ],
   "source": [
    "mask_2017 = df_sat['2017_participation'] > 0.50\n",
    "subset_2017 = df_sat[mask_2017][['state', '2017_participation']]\n",
    "subset_2017.reset_index(drop = True)"
   ]
  },
  {
   "cell_type": "code",
   "execution_count": 612,
   "metadata": {},
   "outputs": [
    {
     "data": {
      "text/html": [
       "<div>\n",
       "<style scoped>\n",
       "    .dataframe tbody tr th:only-of-type {\n",
       "        vertical-align: middle;\n",
       "    }\n",
       "\n",
       "    .dataframe tbody tr th {\n",
       "        vertical-align: top;\n",
       "    }\n",
       "\n",
       "    .dataframe thead th {\n",
       "        text-align: right;\n",
       "    }\n",
       "</style>\n",
       "<table border=\"1\" class=\"dataframe\">\n",
       "  <thead>\n",
       "    <tr style=\"text-align: right;\">\n",
       "      <th></th>\n",
       "      <th>state</th>\n",
       "      <th>2021_participation</th>\n",
       "    </tr>\n",
       "  </thead>\n",
       "  <tbody>\n",
       "    <tr>\n",
       "      <th>0</th>\n",
       "      <td>Colorado</td>\n",
       "      <td>0.56</td>\n",
       "    </tr>\n",
       "    <tr>\n",
       "      <th>1</th>\n",
       "      <td>Connecticut</td>\n",
       "      <td>0.69</td>\n",
       "    </tr>\n",
       "    <tr>\n",
       "      <th>2</th>\n",
       "      <td>Delaware</td>\n",
       "      <td>0.96</td>\n",
       "    </tr>\n",
       "    <tr>\n",
       "      <th>3</th>\n",
       "      <td>District of Columbia</td>\n",
       "      <td>0.90</td>\n",
       "    </tr>\n",
       "    <tr>\n",
       "      <th>4</th>\n",
       "      <td>Florida</td>\n",
       "      <td>0.81</td>\n",
       "    </tr>\n",
       "    <tr>\n",
       "      <th>5</th>\n",
       "      <td>Idaho</td>\n",
       "      <td>0.90</td>\n",
       "    </tr>\n",
       "    <tr>\n",
       "      <th>6</th>\n",
       "      <td>Illinois</td>\n",
       "      <td>0.80</td>\n",
       "    </tr>\n",
       "    <tr>\n",
       "      <th>7</th>\n",
       "      <td>Michigan</td>\n",
       "      <td>0.68</td>\n",
       "    </tr>\n",
       "    <tr>\n",
       "      <th>8</th>\n",
       "      <td>New Hampshire</td>\n",
       "      <td>0.71</td>\n",
       "    </tr>\n",
       "    <tr>\n",
       "      <th>9</th>\n",
       "      <td>New York</td>\n",
       "      <td>0.55</td>\n",
       "    </tr>\n",
       "    <tr>\n",
       "      <th>10</th>\n",
       "      <td>Rhode Island</td>\n",
       "      <td>0.68</td>\n",
       "    </tr>\n",
       "    <tr>\n",
       "      <th>11</th>\n",
       "      <td>Texas</td>\n",
       "      <td>0.59</td>\n",
       "    </tr>\n",
       "  </tbody>\n",
       "</table>\n",
       "</div>"
      ],
      "text/plain": [
       "                   state  2021_participation\n",
       "0               Colorado                0.56\n",
       "1            Connecticut                0.69\n",
       "2               Delaware                0.96\n",
       "3   District of Columbia                0.90\n",
       "4                Florida                0.81\n",
       "5                  Idaho                0.90\n",
       "6               Illinois                0.80\n",
       "7               Michigan                0.68\n",
       "8          New Hampshire                0.71\n",
       "9               New York                0.55\n",
       "10          Rhode Island                0.68\n",
       "11                 Texas                0.59"
      ]
     },
     "execution_count": 612,
     "metadata": {},
     "output_type": "execute_result"
    }
   ],
   "source": [
    "mask_2021 = df_sat['2021_participation'] > 0.50\n",
    "subset_2021 = df_sat[mask_2021][['state', '2021_participation']]\n",
    "subset_2021.reset_index(drop = True)"
   ]
  },
  {
   "cell_type": "markdown",
   "metadata": {},
   "source": [
    "**To-Do:** *Edit this cell with your findings on trends in the data (step 3 above).*"
   ]
  },
  {
   "cell_type": "markdown",
   "metadata": {},
   "source": [
    "## Visualize the Data\n",
    "\n",
    "There's not a magic bullet recommendation for the right number of plots to understand a given dataset, but visualizing your data is *always* a good idea. Not only does it allow you to quickly convey your findings (even if you have a non-technical audience), it will often reveal trends in your data that escaped you when you were looking only at numbers. It is important to not only create visualizations, but to **interpret your visualizations** as well.\n",
    "\n",
    "**Every plot should**:\n",
    "- Have a title\n",
    "- Have axis labels\n",
    "- Have appropriate tick labels\n",
    "- Text is legible in a plot\n",
    "- Plots demonstrate meaningful and valid relationships\n",
    "- Have an interpretation to aid understanding\n",
    "\n",
    "Here is an example of what your plots should look like following the above guidelines. Note that while the content of this example is unrelated, the principles of visualization hold:\n",
    "\n",
    "![](https://snag.gy/hCBR1U.jpg)\n",
    "*Interpretation: The above image shows that as we increase our spending on advertising, our sales numbers also tend to increase. There is a positive correlation between advertising spending and sales.*\n",
    "\n",
    "---\n",
    "\n",
    "Here are some prompts to get you started with visualizations. Feel free to add additional visualizations as you see fit:\n",
    "1. Use Seaborn's heatmap with pandas `.corr()` to visualize correlations between all numeric features.\n",
    "    - Heatmaps are generally not appropriate for presentations, and should often be excluded from reports as they can be visually overwhelming. **However**, they can be extremely useful in identify relationships of potential interest (as well as identifying potential collinearity before modeling).\n",
    "    - Please take time to format your output, adding a title. Look through some of the additional arguments and options. (Axis labels aren't really necessary, as long as the title is informative).\n",
    "2. Visualize distributions using histograms. If you have a lot, consider writing a custom function and use subplots.\n",
    "    - *OPTIONAL*: Summarize the underlying distributions of your features (in words & statistics)\n",
    "         - Be thorough in your verbal description of these distributions.\n",
    "         - Be sure to back up these summaries with statistics.\n",
    "         - We generally assume that data we sample from a population will be normally distributed. Do we observe this trend? Explain your answers for each distribution and how you think this will affect estimates made from these data.\n",
    "3. Plot and interpret boxplots. \n",
    "    - Boxplots demonstrate central tendency and spread in variables. In a certain sense, these are somewhat redundant with histograms, but you may be better able to identify clear outliers or differences in IQR, etc.\n",
    "    - Multiple values can be plotted to a single boxplot as long as they are of the same relative scale (meaning they have similar min/max values).\n",
    "    - Each boxplot should:\n",
    "        - Only include variables of a similar scale\n",
    "        - Have clear labels for each variable\n",
    "        - Have appropriate titles and labels\n",
    "4. Plot and interpret scatter plots to view relationships between features. Feel free to write a custom function, and subplot if you'd like. Functions save both time and space.\n",
    "    - Your plots should have:\n",
    "        - Two clearly labeled axes\n",
    "        - A proper title\n",
    "        - Colors and symbols that are clear and unmistakable\n",
    "5. Additional plots of your choosing.\n",
    "    - Are there any additional trends or relationships you haven't explored? Was there something interesting you saw that you'd like to dive further into? It's likely that there are a few more plots you might want to generate to support your narrative and recommendations that you are building toward. **As always, make sure you're interpreting your plots as you go**."
   ]
  },
  {
   "cell_type": "code",
   "execution_count": 626,
   "metadata": {},
   "outputs": [
    {
     "data": {
      "image/png": "[encoded data removed]",
      "text/plain": [
       "<Figure size 1500x1000 with 1 Axes>"
      ]
     },
     "metadata": {},
     "output_type": "display_data"
    }
   ],
   "source": [
    "plt.figure(figsize=(15, 10))\n",
    "\n",
    "act_part_state = df_act.sort_values('2021_participation', ascending=False)\n",
    "\n",
    "sns.barplot(x=act_part_state['state'], y=act_part_state['2017_participation'], color='#377eb8', label='2017')\n",
    "sns.barplot(x=act_part_state['state'], y=act_part_state['2018_participation'], color='#ff7f00', label='2018')\n",
    "sns.barplot(x=act_part_state['state'], y=act_part_state['2019_participation'], color='#4daf4a', label='2019')\n",
    "sns.barplot(x=act_part_state['state'], y=act_part_state['2021_participation'], color='#984ea3', label='2021')\n",
    "\n",
    "plt.xlabel('States')\n",
    "plt.ylabel('Participation')\n",
    "plt.title('ACT Test Participation by State and Year')\n",
    "plt.legend()\n",
    "\n",
    "plt.xticks(rotation=90)\n",
    "plt.show()"
   ]
  },
  {
   "cell_type": "code",
   "execution_count": 628,
   "metadata": {},
   "outputs": [
    {
     "data": {
      "image/png": "[encoded data removed]",
      "text/plain": [
       "<Figure size 1500x1000 with 1 Axes>"
      ]
     },
     "metadata": {},
     "output_type": "display_data"
    }
   ],
   "source": [
    "plt.figure(figsize=(15, 10))\n",
    "\n",
    "sat_part_state = df_sat.sort_values('2021_participation', ascending=False)\n",
    "\n",
    "sns.barplot(x=sat_part_state['state'], y=sat_part_state['2017_participation'], color='#377eb8', label='2017')\n",
    "sns.barplot(x=sat_part_state['state'], y=sat_part_state['2018_participation'], color='#ff7f00', label='2018')\n",
    "sns.barplot(x=sat_part_state['state'], y=sat_part_state['2019_participation'], color='#4daf4a', label='2019')\n",
    "sns.barplot(x=sat_part_state['state'], y=sat_part_state['2021_participation'], color='#984ea3', label='2021')\n",
    "\n",
    "plt.xlabel('States')\n",
    "plt.ylabel('Participation')\n",
    "plt.title('SAT Test Participation by State and Year')\n",
    "plt.legend()\n",
    "\n",
    "plt.xticks(rotation=90)\n",
    "plt.show()"
   ]
  },
  {
   "cell_type": "code",
   "execution_count": 646,
   "metadata": {},
   "outputs": [
    {
     "data": {
      "image/png": "[encoded data removed]",
      "text/plain": [
       "<Figure size 700x500 with 1 Axes>"
      ]
     },
     "metadata": {},
     "output_type": "display_data"
    }
   ],
   "source": [
    "act_part_national = {'Year': ['2017', '2018', '2019', '2021'],'Mean Participation': [mean_act['2017_participation'],mean_act['2018_participation'],mean_act['2019_participation'],mean_act['2021_participation']]}\n",
    "\n",
    "plt.figure(figsize=(7, 5))\n",
    "sns.barplot(x='Year', y='Mean Participation', data = act_part_data, palette = 'colorblind')\n",
    "plt.xlabel('Year')\n",
    "plt.ylabel('Mean Participation')\n",
    "plt.title('Mean ACT Participation by Year')\n",
    "plt.show()"
   ]
  },
  {
   "cell_type": "code",
   "execution_count": 645,
   "metadata": {},
   "outputs": [
    {
     "data": {
      "image/png": "[encoded data removed]",
      "text/plain": [
       "<Figure size 700x500 with 1 Axes>"
      ]
     },
     "metadata": {},
     "output_type": "display_data"
    }
   ],
   "source": [
    "sat_part_national = {'Year': ['2017', '2018', '2019', '2021'],'Mean Participation': [mean_sat['2017_participation'],mean_sat['2018_participation'],mean_sat['2019_participation'],mean_sat['2021_participation']]}\n",
    "\n",
    "plt.figure(figsize=(7, 5))\n",
    "sns.barplot(x='Year', y='Mean Participation', data = act_part_data, palette = 'colorblind')\n",
    "plt.xlabel('Year')\n",
    "plt.ylabel('Mean Participation')\n",
    "plt.title('Mean SAT Participation by Year')\n",
    "plt.show()"
   ]
  },
  {
   "cell_type": "code",
   "execution_count": 648,
   "metadata": {},
   "outputs": [
    {
     "data": {
      "image/png": "[encoded data removed]",
      "text/plain": [
       "<Figure size 700x500 with 1 Axes>"
      ]
     },
     "metadata": {},
     "output_type": "display_data"
    }
   ],
   "source": [
    "act_score_national = {'Year': ['2017', '2018', '2019', '2021'],'Mean Score': [mean_act['2017_score'],mean_act['2018_score'],mean_act['2019_score'],mean_act['2021_score']]}\n",
    "\n",
    "plt.figure(figsize=(7, 5))\n",
    "sns.barplot(x='Year', y='Mean Score', data = act_score_national, palette = 'deep')\n",
    "plt.xlabel('Year')\n",
    "plt.ylabel('Mean Score')\n",
    "plt.title('Mean ACT Score by Year')\n",
    "plt.show()"
   ]
  },
  {
   "cell_type": "code",
   "execution_count": 649,
   "metadata": {},
   "outputs": [
    {
     "data": {
      "image/png": "[encoded data removed]",
      "text/plain": [
       "<Figure size 700x500 with 1 Axes>"
      ]
     },
     "metadata": {},
     "output_type": "display_data"
    }
   ],
   "source": [
    "sat_score_national = {'Year': ['2017', '2018', '2019', '2021'],'Mean Score': [mean_sat['2017_score'],mean_sat['2018_score'],mean_sat['2019_score'],mean_sat['2021_score']]}\n",
    "\n",
    "plt.figure(figsize=(7, 5))\n",
    "sns.barplot(x='Year', y='Mean Score', data = sat_score_national, palette = 'deep')\n",
    "plt.xlabel('Year')\n",
    "plt.ylabel('Mean Score')\n",
    "plt.title('Mean SAT Score by Year')\n",
    "plt.show()"
   ]
  },
  {
   "cell_type": "markdown",
   "metadata": {},
   "source": [
    "## Conclusions and Recommendations"
   ]
  },
  {
   "cell_type": "markdown",
   "metadata": {},
   "source": [
    "Based on your exploration of the data, what are you key takeaways and recommendations? Make sure to answer your question of interest or address your problem statement here."
   ]
  },
  {
   "cell_type": "markdown",
   "metadata": {},
   "source": [
    "**To-Do:** *Edit this cell with your conclusions and recommendations.*"
   ]
  },
  {
   "cell_type": "markdown",
   "metadata": {},
   "source": [
    "Don't forget to create your README!\n",
    "\n",
    "**To-Do:** *If you combine your problem statement, data dictionary, brief summary of your analysis, and conclusions/recommendations, you have an amazing README.md file that quickly aligns your audience to the contents of your project.* Don't forget to cite your data sources!"
   ]
  }
 ],
 "metadata": {
  "anaconda-cloud": {},
  "kernelspec": {
   "display_name": "Python 3 (ipykernel)",
   "language": "python",
   "name": "python3"
  },
  "language_info": {
   "codemirror_mode": {
    "name": "ipython",
    "version": 3
   },
   "file_extension": ".py",
   "mimetype": "text/x-python",
   "name": "python",
   "nbconvert_exporter": "python",
   "pygments_lexer": "ipython3",
   "version": "3.10.9"
  }
 },
 "nbformat": 4,
 "nbformat_minor": 4
}
