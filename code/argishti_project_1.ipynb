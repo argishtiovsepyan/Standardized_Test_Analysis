{
 "cells": [
  {
   "cell_type": "markdown",
   "metadata": {},
   "source": [
    "<img src=\"http://imgur.com/1ZcRyrc.png\" style=\"float: left; margin: 20px; height: 55px\">\n",
    "\n",
    "# Project 1: Standardized Test Analysis"
   ]
  },
  {
   "cell_type": "markdown",
   "metadata": {},
   "source": [
    "--- \n",
    "# Part 1\n",
    "\n",
    "Part 1 requires knowledge of basic Python.\n",
    "\n",
    "---"
   ]
  },
  {
   "cell_type": "markdown",
   "metadata": {},
   "source": [
    "## Evaluating the Impact of Optional ACT and SAT Tests on Student Participation and Performance"
   ]
  },
  {
   "cell_type": "markdown",
   "metadata": {},
   "source": [
    "As an analyst hired by the US Department of Education, my objective is to evaluate the ACT and SAT participation rates and scores, utilizing data from 2017, 2018, and 2019 versus 2021 when a majority of colleges made these tests optional. Additionally, I will investigate whether the necessity of these tests influences student participation, and if the voluntary test-taking led to improved performance. This analysis aims to assess the ongoing value of investing significant resources and effort into these tests and explore alternative aspects of learning that could be prioritized. Based on the findings, I will provide recommendations to the ED regarding the future of the ACT and SAT requirements beyond the 2021 applications."
   ]
  },
  {
   "cell_type": "markdown",
   "metadata": {},
   "source": [
    "### Contents:\n",
    "- [Background](#Background)\n",
    "- [Data Import & Cleaning](#Data-Import-and-Cleaning)\n",
    "- [Exploratory Data Analysis](#Exploratory-Data-Analysis)\n",
    "- [Data Visualization](#Visualize-the-Data)\n",
    "- [Conclusions and Recommendations](#Conclusions-and-Recommendations)"
   ]
  },
  {
   "cell_type": "markdown",
   "metadata": {},
   "source": [
    "## Background"
   ]
  },
  {
   "cell_type": "markdown",
   "metadata": {},
   "source": [
    "The SAT and ACT are standardized tests that many colleges and universities in the United States require for their admissions process. This score is used along with other materials such as grade point average (GPA) and essay responses to determine whether or not a potential student will be accepted to the university.\n",
    "\n",
    "The SAT has two sections of the test: Evidence-Based Reading and Writing and Math ([*source*](https://www.princetonreview.com/college/sat-sections)). The ACT has 4 sections: English, Mathematics, Reading, and Science, with an additional optional writing section ([*source*](https://www.act.org/content/act/en/products-and-services/the-act/scores/understanding-your-scores.html)). They have different score ranges, which you can read more about on their websites or additional outside sources (a quick Google search will help you understand the scores for each test):\n",
    "* [SAT](https://collegereadiness.collegeboard.org/sat)\n",
    "* [ACT](https://www.act.org/content/act/en.html)\n",
    "\n",
    "Standardized tests have long been a controversial topic for students, administrators, and legislators. Since the 1940's, an increasing number of colleges have been using scores from sudents' performances on tests like the SAT and the ACT as a measure for college readiness and aptitude ([*source*](https://www.minotdailynews.com/news/local-news/2017/04/a-brief-history-of-the-sat-and-act/)). Supporters of these tests argue that these scores can be used as an objective measure to determine college admittance. Opponents of these tests claim that these tests are not accurate measures of students potential or ability and serve as an inequitable barrier to entry. Lately, more and more schools are opting to drop the SAT/ACT requirement for their Fall 2021 applications ([*read more*](https://www.cnn.com/2020/04/14/us/coronavirus-colleges-sat-act-test-trnd/index.html))."
   ]
  },
  {
   "cell_type": "markdown",
   "metadata": {},
   "source": [
    "The decision to make these tests optional is a response to various factors, including the ongoing debate surrounding the validity and equity of standardized testing, as well as the impact of external circumstances such as the COVID-19 pandemic ([*source*](https://www.cnn.com/2020/04/14/us/coronavirus-colleges-sat-act-test-trnd/index.html)). This shift in policy opens up opportunities for evaluating the impact of voluntary test participation on student engagement and performance, which forms the basis of this analysis. By examining participation rates and scores from 2017, 2018, and 2019 in comparison to the data from 2021, when many colleges adopted an optional testing policy, this project aims to shed light on the effects of this policy change."
   ]
  },
  {
   "cell_type": "markdown",
   "metadata": {},
   "source": [
    "### Data\n",
    "\n",
    "* [`act_2017.csv`](./data/act_2017.csv): 2017 ACT Scores & Participation by State\n",
    "* [`act_2018.csv`](./data/act_2018.csv): 2018 ACT Scores & Participation by State\n",
    "* [`act_2019.csv`](./data/act_2019.csv): 2019 ACT Scores & Participation by State\n",
    "* [`act_2021.csv`](./data/act_2021.csv): 2021 ACT Scores & Participation by State\n",
    "* [`sat_2017.csv`](./data/sat_2017.csv): 2017 SAT Scores & Participation by State\n",
    "* [`sat_2018.csv`](./data/sat_2018.csv): 2018 SAT Scores & Participation by State\n",
    "* [`sat_2019.csv`](./data/sat_2019.csv): 2019 SAT Scores & Participation by State\n",
    "* [`sat_2021.csv`](./data/sat_2021.csv): 2021 SAT Scores & Participation by State\n",
    "* [`sat_act_by_college.csv`](./data/sat_act_by_college.csv): Ranges of Accepted ACT & SAT Student Scores by Colleges\n",
    "* [`act_17_18_19_21.csv`](./data/act_17_18_19_21.csv): 2017, 2018, 2019, and 2021 ACT Scores & Participation by State Combined\n",
    "* [`sat_17_18_19_21.csv`](./data/sat_17_18_19_21.csv): 2017, 2018, 2019, and 2021 SAT Scores & Participation by State Combined"
   ]
  },
  {
   "cell_type": "markdown",
   "metadata": {},
   "source": [
    "### Outside Research"
   ]
  },
  {
   "cell_type": "markdown",
   "metadata": {},
   "source": [
    "ACT: https://www.act.org/content/dam/act/unsecured/documents/2021/2021-Average-ACT-Scores-by-State.pdf\n",
    "\n",
    "Data used to create (act_2021.csv).\n",
    "\n",
    "SAT: https://reports.collegeboard.org/sat-suite-program-results/data-archive\n",
    "\n",
    "Data used to create (sat_2021.csv).\n",
    "\n",
    "Department of Education: https://nces.ed.gov/fastfacts/display.asp?id=1122\n",
    "\n",
    "For statement \"According to National Center for Education Statistics (U.S. Department of Education), there are 3,931 colleges in the United States in 2021.\"\n",
    "\n",
    "CNN: https://www.cnn.com/2020/04/14/us/coronavirus-colleges-sat-act-test-trnd/index.html\n",
    "\n",
    "For statement \"The decision to make these tests optional is a response to various factors, including the ongoing debate surrounding the validity and equity of standardized testing, as well as the impact of external circumstances such as the COVID-19 pandemic.\"\n",
    "\n",
    "(ColorBrewer: http://colorbrewer2.org/\n",
    "\n",
    "Coblis: https://www.color-blindness.com/coblis-color-blindness-simulator/\n",
    "\n",
    "Color Oracle: https://colororacle.org/) via ChatGPT\n",
    "\n",
    "color='#377EB8'\n",
    "color='#FF7F00'\n",
    "color='#4DAF4A'\n",
    "color='#984EA3'\n",
    "\n",
    "ChatGPT: https://chat.openai.com/\n",
    "\n",
    "Bard: https://bard.google.com/\n",
    "\n",
    "Assisted in rewording my English writing for better readability.\n",
    "\n",
    "Assisted in error troubleshooting and manual tasks such as adding commas to data to create a csv file.\n",
    "\n",
    "Pandas: https://pandas.pydata.org/docs/reference/api/pandas.DataFrame.reset_index.html\n",
    "\n",
    "The .reset_index(drop = True) portion at the end of this code. \"df_act_2018 = df_act_2018.drop_duplicates().reset_index(drop = True)\""
   ]
  },
  {
   "cell_type": "markdown",
   "metadata": {
    "tags": []
   },
   "source": [
    "### Coding Challenges\n",
    "\n",
    "1. Manually calculate mean:\n",
    "\n",
    "    Write a function that takes in values and returns the mean of the values. Create a list of numbers that you test on your function to check to make sure your function works!\n",
    "    \n",
    "    *Note*: Do not use any mean methods built-in to any Python libraries to do this! This should be done without importing any additional libraries."
   ]
  },
  {
   "cell_type": "code",
   "execution_count": 163,
   "metadata": {},
   "outputs": [],
   "source": [
    "def mean_machine(numbers):\n",
    "    return sum(numbers) / len(numbers)"
   ]
  },
  {
   "cell_type": "code",
   "execution_count": 164,
   "metadata": {},
   "outputs": [],
   "source": [
    "numbers = [1, 2, 3, 4 , 5]"
   ]
  },
  {
   "cell_type": "code",
   "execution_count": 165,
   "metadata": {},
   "outputs": [
    {
     "data": {
      "text/plain": [
       "3.0"
      ]
     },
     "execution_count": 165,
     "metadata": {},
     "output_type": "execute_result"
    }
   ],
   "source": [
    "mean_machine(numbers)"
   ]
  },
  {
   "cell_type": "markdown",
   "metadata": {},
   "source": [
    "2. Manually calculate standard deviation:\n",
    "\n",
    "    The formula for standard deviation is below:\n",
    "\n",
    "    $$\\sigma = \\sqrt{\\frac{1}{n}\\sum_{i=1}^n(x_i - \\mu)^2}$$\n",
    "\n",
    "    Where $x_i$ represents each value in the dataset, $\\mu$ represents the mean of all values in the dataset and $n$ represents the number of values in the dataset.\n",
    "\n",
    "    Write a function that takes in values and returns the standard deviation of the values using the formula above. Hint: use the function you wrote above to calculate the mean! Use the list of numbers you created above to test on your function.\n",
    "    \n",
    "    *Note*: Do not use any standard deviation methods built-in to any Python libraries to do this! This should be done without importing any additional libraries."
   ]
  },
  {
   "cell_type": "code",
   "execution_count": 166,
   "metadata": {},
   "outputs": [],
   "source": [
    "# calculate the mean of the dataset (already did this with mean_machine(numbers))\n",
    "# subtract the mean from each value in the list and square it for squared differences\n",
    "# add all the squared difference values together\n",
    "# divide the sum total by the number of values for variance\n",
    "# take the square root of everything for standard deviation\n",
    "\n",
    "def standard_deviation(numbers):\n",
    "    mean = mean_machine(numbers)\n",
    "    sdev = (sum((x - mean)**2 for x in numbers) / len(numbers))**0.5\n",
    "    return sdev\n",
    "\n",
    "# CAUTION!!! you have to specify for x in numbers or the function has no idea what to do with the x you've introduced\n",
    "# NameError: name 'x' is not defined"
   ]
  },
  {
   "cell_type": "code",
   "execution_count": 167,
   "metadata": {},
   "outputs": [
    {
     "data": {
      "text/plain": [
       "1.4142135623730951"
      ]
     },
     "execution_count": 167,
     "metadata": {},
     "output_type": "execute_result"
    }
   ],
   "source": [
    "standard_deviation(numbers)"
   ]
  },
  {
   "cell_type": "markdown",
   "metadata": {},
   "source": [
    "3. Data cleaning function:\n",
    "    \n",
    "    Write a function that takes in a string that is a number and a percent symbol (ex. '50%', '30.5%', etc.) and converts this to a float that is the decimal approximation of the percent. For example, inputting '50%' in your function should return 0.5, '30.5%' should return 0.305, etc. Make sure to test your function to make sure it works!\n",
    "\n",
    "You will use these functions later on in the project!"
   ]
  },
  {
   "cell_type": "code",
   "execution_count": 168,
   "metadata": {},
   "outputs": [],
   "source": [
    "# replace the % symbol with empty string so it's just a flat number\n",
    "# convert the string to a float (decimal number)\n",
    "# you have to divide that by 100 or you get 50.0 not 0.5\n",
    "\n",
    "def clean_data(data):\n",
    "    data = data.replace('%', '')\n",
    "    float_data = float(data) / 100\n",
    "    return float_data"
   ]
  },
  {
   "cell_type": "code",
   "execution_count": 169,
   "metadata": {},
   "outputs": [
    {
     "data": {
      "text/plain": [
       "0.5"
      ]
     },
     "execution_count": 169,
     "metadata": {},
     "output_type": "execute_result"
    }
   ],
   "source": [
    "clean_data('50%')"
   ]
  },
  {
   "cell_type": "code",
   "execution_count": 170,
   "metadata": {},
   "outputs": [
    {
     "data": {
      "text/plain": [
       "0.305"
      ]
     },
     "execution_count": 170,
     "metadata": {},
     "output_type": "execute_result"
    }
   ],
   "source": [
    "clean_data('30.5%')"
   ]
  },
  {
   "cell_type": "markdown",
   "metadata": {
    "tags": []
   },
   "source": [
    "---\n",
    "\n",
    "# Part 2\n",
    "\n",
    "Part 2 requires knowledge of Pandas, EDA, data cleaning, and data visualization.\n",
    "\n",
    "---"
   ]
  },
  {
   "cell_type": "code",
   "execution_count": 171,
   "metadata": {},
   "outputs": [],
   "source": [
    "import pandas as pd\n",
    "import numpy as np\n",
    "import matplotlib.pyplot as plt\n",
    "import seaborn as sns\n",
    "import os"
   ]
  },
  {
   "cell_type": "markdown",
   "metadata": {},
   "source": [
    "## Data Import and Cleaning"
   ]
  },
  {
   "cell_type": "markdown",
   "metadata": {},
   "source": [
    "### ACT Scores & Participation by State (2017, 2018, 2019, and 2021)"
   ]
  },
  {
   "cell_type": "code",
   "execution_count": 172,
   "metadata": {},
   "outputs": [
    {
     "data": {
      "text/plain": [
       "'/Users/argishtiovsepyan/DSI-508/Projects/project-1/code'"
      ]
     },
     "execution_count": 172,
     "metadata": {},
     "output_type": "execute_result"
    }
   ],
   "source": [
    "os.getcwd()\n",
    "\n",
    "# '/Users/argishtiovsepyan/DSI-508/Projects/project-1/data' for data location"
   ]
  },
  {
   "cell_type": "code",
   "execution_count": 173,
   "metadata": {},
   "outputs": [],
   "source": [
    "act_2017 = '/Users/argishtiovsepyan/DSI-508/Projects/project-1/data/act_2017.csv'\n",
    "act_2018 = '/Users/argishtiovsepyan/DSI-508/Projects/project-1/data/act_2018.csv'\n",
    "act_2019 = '/Users/argishtiovsepyan/DSI-508/Projects/project-1/data/act_2019.csv'\n",
    "act_2021 = '/Users/argishtiovsepyan/DSI-508/Projects/project-1/data/act_2021.csv'"
   ]
  },
  {
   "cell_type": "code",
   "execution_count": 174,
   "metadata": {},
   "outputs": [],
   "source": [
    "df_act_2017 = pd.read_csv(act_2017)\n",
    "df_act_2018 = pd.read_csv(act_2018)\n",
    "df_act_2019 = pd.read_csv(act_2019)\n",
    "df_act_2021 = pd.read_csv(act_2021)"
   ]
  },
  {
   "cell_type": "code",
   "execution_count": 175,
   "metadata": {},
   "outputs": [
    {
     "data": {
      "text/plain": [
       "(      State Participation  English  Math  Reading  Science Composite\n",
       " 0  National           60%     20.3  20.7     21.4     21.0      21.0,\n",
       "      State Participation  Composite\n",
       " 0  Alabama          100%       19.1,\n",
       "      State Participation  Composite\n",
       " 0  Alabama          100%       18.9,\n",
       "      state 2021_participation  2021_score\n",
       " 0  Alabama               100%        18.7)"
      ]
     },
     "execution_count": 175,
     "metadata": {},
     "output_type": "execute_result"
    }
   ],
   "source": [
    "df_act_2017.head(1), df_act_2018.head(1), df_act_2019.head(1), df_act_2021.head(1)"
   ]
  },
  {
   "cell_type": "code",
   "execution_count": 176,
   "metadata": {},
   "outputs": [
    {
     "data": {
      "text/plain": [
       "((52, 7), (52, 3), (52, 3), (51, 3))"
      ]
     },
     "execution_count": 176,
     "metadata": {},
     "output_type": "execute_result"
    }
   ],
   "source": [
    "df_act_2017.shape, df_act_2018.shape, df_act_2019.shape, df_act_2021.shape"
   ]
  },
  {
   "cell_type": "code",
   "execution_count": 177,
   "metadata": {},
   "outputs": [],
   "source": [
    "act_2017 = df_act_2017.drop(['English', 'Math', 'Reading', 'Science'], axis = 1, inplace = True)"
   ]
  },
  {
   "cell_type": "code",
   "execution_count": 178,
   "metadata": {},
   "outputs": [],
   "source": [
    "df_act_2017.drop([0],inplace = True)\n",
    "df_act_2019.drop([51],inplace = True)"
   ]
  },
  {
   "cell_type": "code",
   "execution_count": 179,
   "metadata": {},
   "outputs": [],
   "source": [
    "df_act_2017.reset_index(drop = True, inplace = True)\n",
    "df_act_2018.reset_index(drop = True, inplace = True)\n",
    "df_act_2019.reset_index(drop = True, inplace = True)\n",
    "df_act_2021.reset_index(drop = True, inplace = True)"
   ]
  },
  {
   "cell_type": "code",
   "execution_count": 180,
   "metadata": {},
   "outputs": [
    {
     "data": {
      "text/plain": [
       "(0, 1, 0)"
      ]
     },
     "execution_count": 180,
     "metadata": {},
     "output_type": "execute_result"
    }
   ],
   "source": [
    "# duplicated().sum() shows 1 as true and 0 as false\n",
    "\n",
    "df_act_2017.duplicated().sum(), df_act_2018.duplicated().sum(), df_act_2019.duplicated().sum()"
   ]
  },
  {
   "cell_type": "code",
   "execution_count": 182,
   "metadata": {},
   "outputs": [],
   "source": [
    "df_act_2018 = df_act_2018.drop_duplicates().reset_index(drop = True)"
   ]
  },
  {
   "cell_type": "code",
   "execution_count": 183,
   "metadata": {},
   "outputs": [
    {
     "data": {
      "text/plain": [
       "(0, 0, 0)"
      ]
     },
     "execution_count": 183,
     "metadata": {},
     "output_type": "execute_result"
    }
   ],
   "source": [
    "df_act_2017.duplicated().sum(), df_act_2018.duplicated().sum(), df_act_2019.duplicated().sum()"
   ]
  },
  {
   "cell_type": "code",
   "execution_count": 184,
   "metadata": {},
   "outputs": [
    {
     "data": {
      "text/plain": [
       "(     State Participation Composite\n",
       " 0  Alabama          100%      19.2,\n",
       "      State Participation  Composite\n",
       " 0  Alabama          100%       19.1,\n",
       "      State Participation  Composite\n",
       " 0  Alabama          100%       18.9,\n",
       "      state 2021_participation  2021_score\n",
       " 0  Alabama               100%        18.7)"
      ]
     },
     "execution_count": 184,
     "metadata": {},
     "output_type": "execute_result"
    }
   ],
   "source": [
    "df_act_2017.head(1), df_act_2018.head(1), df_act_2019.head(1), df_act_2021.head(1)"
   ]
  },
  {
   "cell_type": "code",
   "execution_count": null,
   "metadata": {},
   "outputs": [],
   "source": [
    "df_act_2017.tail(1), df_act_2018.tail(1), df_act_2019.tail(1), df_act_2021.tail(1)"
   ]
  },
  {
   "cell_type": "code",
   "execution_count": null,
   "metadata": {},
   "outputs": [],
   "source": [
    "df_act_2017.dtypes, df_act_2018.dtypes, df_act_2019.dtypes, df_act_2021.dtypes"
   ]
  },
  {
   "cell_type": "code",
   "execution_count": null,
   "metadata": {},
   "outputs": [],
   "source": [
    "# df_act_2017['Composite'] = df_act_2017['Composite'].astype(float)\n",
    "# ValueError: could not convert string to float: '20.2x'\n",
    "# Coercing it made Wyoming 20.2x = NaN...\n",
    "\n",
    "df_act_2017['Composite'] = pd.to_numeric(df_act_2017['Composite'], errors = 'coerce')\n",
    "df_act_2017.dtypes"
   ]
  },
  {
   "cell_type": "code",
   "execution_count": null,
   "metadata": {},
   "outputs": [],
   "source": [
    "df_act_2017.loc[50, 'Composite'] = 20.2\n",
    "df_act_2017.tail(3)"
   ]
  },
  {
   "cell_type": "code",
   "execution_count": null,
   "metadata": {},
   "outputs": [],
   "source": [
    "df_act = pd.concat([df_act_2017, df_act_2018, df_act_2019, df_act_2021], axis = 1)\n",
    "df_act.head(1)"
   ]
  },
  {
   "cell_type": "code",
   "execution_count": null,
   "metadata": {},
   "outputs": [],
   "source": [
    "df_act.columns.values[0:10] = 'state', '2017_participation', '2017_score', 'extra 1', '2018_participation', '2018_score', 'extra 2', '2019_participation', '2019_score', 'extra 3'\n",
    "df_act.drop(columns = ['extra 1', 'extra 2', 'extra 3'], inplace = True)\n",
    "df_act.head(1)"
   ]
  },
  {
   "cell_type": "code",
   "execution_count": null,
   "metadata": {},
   "outputs": [],
   "source": [
    "df_act.dtypes"
   ]
  },
  {
   "cell_type": "code",
   "execution_count": null,
   "metadata": {},
   "outputs": [],
   "source": [
    "df_act['2017_participation'] = df_act['2017_participation'].apply(clean_data)\n",
    "df_act['2018_participation'] = df_act['2018_participation'].apply(clean_data)\n",
    "df_act['2019_participation'] = df_act['2019_participation'].apply(clean_data)\n",
    "df_act['2021_participation'] = df_act['2021_participation'].apply(clean_data)"
   ]
  },
  {
   "cell_type": "code",
   "execution_count": null,
   "metadata": {},
   "outputs": [],
   "source": [
    "df_act.dtypes"
   ]
  },
  {
   "cell_type": "code",
   "execution_count": null,
   "metadata": {},
   "outputs": [],
   "source": [
    "df_act.to_csv('/Users/argishtiovsepyan/DSI-508/Projects/project-1/data/act_17_18_19_21.csv', index = False)"
   ]
  },
  {
   "cell_type": "code",
   "execution_count": null,
   "metadata": {},
   "outputs": [],
   "source": [
    "df_act.head()"
   ]
  },
  {
   "cell_type": "markdown",
   "metadata": {},
   "source": [
    "### SAT Scores & Participation by State (2017, 2018, 2019, and 2021)"
   ]
  },
  {
   "cell_type": "code",
   "execution_count": null,
   "metadata": {},
   "outputs": [],
   "source": [
    "sat_2017 = '/Users/argishtiovsepyan/DSI-508/Projects/project-1/data/sat_2017.csv'\n",
    "sat_2018 = '/Users/argishtiovsepyan/DSI-508/Projects/project-1/data/sat_2018.csv'\n",
    "sat_2019 = '/Users/argishtiovsepyan/DSI-508/Projects/project-1/data/sat_2019.csv'\n",
    "sat_2021 = '/Users/argishtiovsepyan/DSI-508/Projects/project-1/data/sat_2021.csv'"
   ]
  },
  {
   "cell_type": "code",
   "execution_count": null,
   "metadata": {},
   "outputs": [],
   "source": [
    "df_sat_2017 = pd.read_csv(sat_2017)\n",
    "df_sat_2018 = pd.read_csv(sat_2018)\n",
    "df_sat_2019 = pd.read_csv(sat_2019)\n",
    "df_sat_2021 = pd.read_csv(sat_2021)"
   ]
  },
  {
   "cell_type": "code",
   "execution_count": null,
   "metadata": {},
   "outputs": [],
   "source": [
    "df_sat_2017.head(1), df_sat_2018.head(1), df_sat_2019.head(1), df_sat_2021.head(1)"
   ]
  },
  {
   "cell_type": "code",
   "execution_count": null,
   "metadata": {},
   "outputs": [],
   "source": [
    "sat_2017 = df_sat_2017.drop(['Evidence-Based Reading and Writing', 'Math'], axis = 1, inplace = True)\n",
    "sat_2018 = df_sat_2018.drop(['Evidence-Based Reading and Writing', 'Math'], axis = 1, inplace = True)\n",
    "sat_2019 = df_sat_2019.drop(['EBRW', 'Math'], axis = 1, inplace = True)"
   ]
  },
  {
   "cell_type": "code",
   "execution_count": null,
   "metadata": {},
   "outputs": [],
   "source": [
    "df_sat_2017.head(1), df_sat_2018.head(1), df_sat_2019.head(1), df_sat_2021.head(1)"
   ]
  },
  {
   "cell_type": "code",
   "execution_count": null,
   "metadata": {},
   "outputs": [],
   "source": [
    "df_sat_2017.shape, df_sat_2018.shape, df_sat_2019.shape, df_sat_2021.shape"
   ]
  },
  {
   "cell_type": "code",
   "execution_count": null,
   "metadata": {},
   "outputs": [],
   "source": [
    "df_act_2017.dtypes, df_act_2018.dtypes, df_act_2019.dtypes, df_act_2021.dtypes"
   ]
  },
  {
   "cell_type": "code",
   "execution_count": null,
   "metadata": {},
   "outputs": [],
   "source": [
    "df_sat_2017.duplicated().sum(), df_sat_2018.duplicated().sum(), df_sat_2019.duplicated().sum()"
   ]
  },
  {
   "cell_type": "code",
   "execution_count": null,
   "metadata": {},
   "outputs": [],
   "source": [
    "df_sat_2019.drop([39, 47],inplace = True)"
   ]
  },
  {
   "cell_type": "code",
   "execution_count": null,
   "metadata": {},
   "outputs": [],
   "source": [
    "df_sat_2019.reset_index(drop = True, inplace = True)"
   ]
  },
  {
   "cell_type": "code",
   "execution_count": null,
   "metadata": {},
   "outputs": [],
   "source": [
    "df_sat = pd.concat([df_sat_2017, df_sat_2018, df_sat_2019, df_sat_2021], axis = 1)\n",
    "df_sat.tail(1)"
   ]
  },
  {
   "cell_type": "code",
   "execution_count": null,
   "metadata": {},
   "outputs": [],
   "source": [
    "df_sat.columns.values[0:10] = 'state', '2017_participation', '2017_score', 'extra 1', '2018_participation', '2018_score', 'extra 2', '2019_participation', '2019_score', 'extra 3'\n",
    "df_sat.drop(columns = ['extra 1', 'extra 2', 'extra 3'], inplace = True)\n",
    "\n",
    "df_sat.head(1)"
   ]
  },
  {
   "cell_type": "code",
   "execution_count": null,
   "metadata": {},
   "outputs": [],
   "source": [
    "df_sat.dtypes"
   ]
  },
  {
   "cell_type": "code",
   "execution_count": null,
   "metadata": {},
   "outputs": [],
   "source": [
    "df_sat['2017_participation'] = df_sat['2017_participation'].apply(clean_data)\n",
    "df_sat['2018_participation'] = df_sat['2018_participation'].apply(clean_data)\n",
    "df_sat['2019_participation'] = df_sat['2019_participation'].apply(clean_data)\n",
    "df_sat['2021_participation'] = df_sat['2021_participation'].apply(clean_data)"
   ]
  },
  {
   "cell_type": "code",
   "execution_count": null,
   "metadata": {},
   "outputs": [],
   "source": [
    "df_sat.dtypes"
   ]
  },
  {
   "cell_type": "code",
   "execution_count": null,
   "metadata": {},
   "outputs": [],
   "source": [
    "df_sat.to_csv('/Users/argishtiovsepyan/DSI-508/Projects/project-1/data/sat_17_18_19_21.csv', index = False)"
   ]
  },
  {
   "cell_type": "code",
   "execution_count": null,
   "metadata": {},
   "outputs": [],
   "source": [
    "df_sat.head()"
   ]
  },
  {
   "cell_type": "markdown",
   "metadata": {},
   "source": [
    "### SAT & ACT Optional Participation"
   ]
  },
  {
   "cell_type": "code",
   "execution_count": null,
   "metadata": {},
   "outputs": [],
   "source": [
    "sat_act_2021_optional = '/Users/argishtiovsepyan/DSI-508/Projects/project-1/data/sat_act_by_college.csv'"
   ]
  },
  {
   "cell_type": "code",
   "execution_count": null,
   "metadata": {},
   "outputs": [],
   "source": [
    "df_sat_act_2021_optional = pd.read_csv(sat_act_2021_optional)"
   ]
  },
  {
   "cell_type": "code",
   "execution_count": null,
   "metadata": {},
   "outputs": [],
   "source": [
    "df_sat_act_2021_optional.shape"
   ]
  },
  {
   "cell_type": "code",
   "execution_count": null,
   "metadata": {},
   "outputs": [],
   "source": [
    "df_sat_act_2021_optional.dtypes"
   ]
  },
  {
   "cell_type": "code",
   "execution_count": null,
   "metadata": {},
   "outputs": [],
   "source": [
    "df_sat_act_2021_optional.duplicated().sum()"
   ]
  },
  {
   "cell_type": "code",
   "execution_count": null,
   "metadata": {},
   "outputs": [],
   "source": [
    "df_sat_act_2021_optional.head(1)"
   ]
  },
  {
   "cell_type": "code",
   "execution_count": null,
   "metadata": {},
   "outputs": [],
   "source": [
    "sat_act_2021_optional = df_sat_act_2021_optional.drop(['Applies to Class Year(s)', 'Policy Details', 'Number of Applicants', 'Accept Rate', 'SAT Total 25th-75th Percentile', 'ACT Total 25th-75th Percentile'], axis = 1, inplace = True)"
   ]
  },
  {
   "cell_type": "code",
   "execution_count": null,
   "metadata": {},
   "outputs": [],
   "source": [
    "df_sat_act_2021_optional.columns.values[0:2] = 'school', 'test_optional'"
   ]
  },
  {
   "cell_type": "code",
   "execution_count": null,
   "metadata": {},
   "outputs": [],
   "source": [
    "df_sat_act_2021_optional.head()"
   ]
  },
  {
   "cell_type": "markdown",
   "metadata": {},
   "source": [
    "### Data Dictionary\n",
    "\n",
    "| Feature | Type | Dataset | Description |\n",
    "|---------|------|---------|-------------|\n",
    "| year | integer | ACT/SAT Data | The year the data was collected (2017, 2018, 2019, 2021). |\n",
    "| act_participation | float | ACT Data | The percentage of students participating in the ACT test in the given year. |\n",
    "| sat_participation | float | SAT Data | The percentage of students participating in the SAT test in the given year. |\n",
    "| act_scores | float | ACT Data | The average ACT test score in the given year. |\n",
    "| sat_scores | integer | SAT Data | The average SAT test score in the given year. |\n",
    "| test_requirement | boolean | College Policy Data | Indicates if the ACT/SAT test was required (True) or optional (False) in the given year."
   ]
  },
  {
   "cell_type": "markdown",
   "metadata": {},
   "source": [
    "## Exploratory Data Analysis\n",
    "\n",
    "Complete the following steps to explore your data. You are welcome to do more EDA than the steps outlined here as you feel necessary:\n",
    "1. Summary Statistics.\n",
    "2. Use a **dictionary comprehension** to apply the standard deviation function you create in part 1 to each numeric column in the dataframe.  **No loops**.\n",
    "    - Assign the output to variable `sd` as a dictionary where: \n",
    "        - Each column name is now a key \n",
    "        - That standard deviation of the column is the value \n",
    "        - *Example Output :* `{'ACT_Math': 120, 'ACT_Reading': 120, ...}`\n",
    "3. Investigate trends in the data.\n",
    "    - Using sorting and/or masking (along with the `.head()` method to avoid printing our entire dataframe), consider questions relevant to your problem statement. Some examples are provided below (but feel free to change these questions for your specific problem):\n",
    "        - Which states have the highest and lowest participation rates for the 2017, 2019, or 2019 SAT and ACT?\n",
    "        - Which states have the highest and lowest mean total/composite scores for the 2017, 2019, or 2019 SAT and ACT?\n",
    "        - Do any states with 100% participation on a given test have a rate change year-to-year?\n",
    "        - Do any states show have >50% participation on *both* tests each year?\n",
    "        - Which colleges have the highest median SAT and ACT scores for admittance?\n",
    "        - Which California school districts have the highest and lowest mean test scores?\n",
    "    - **You should comment on your findings at each step in a markdown cell below your code block**. Make sure you include at least one example of sorting your dataframe by a column, and one example of using boolean filtering (i.e., masking) to select a subset of the dataframe."
   ]
  },
  {
   "cell_type": "code",
   "execution_count": null,
   "metadata": {},
   "outputs": [],
   "source": [
    "# assign a new dictionary to a variable like 'sd'\n",
    "# create key value pairs like 'ACT_math': 120\n",
    "# go through each column only in data types that are numbers (integers and floats)\n",
    "\n",
    "std_act = {column: standard_deviation(df_act[column]) for column in df_act.select_dtypes(include = [np.number])}"
   ]
  },
  {
   "cell_type": "code",
   "execution_count": null,
   "metadata": {},
   "outputs": [],
   "source": [
    "std_act"
   ]
  },
  {
   "cell_type": "code",
   "execution_count": null,
   "metadata": {},
   "outputs": [],
   "source": [
    "std_sat = {column: standard_deviation(df_sat[column]) for column in df_sat.select_dtypes(include = [np.number])}"
   ]
  },
  {
   "cell_type": "code",
   "execution_count": null,
   "metadata": {},
   "outputs": [],
   "source": [
    "std_sat"
   ]
  },
  {
   "cell_type": "code",
   "execution_count": null,
   "metadata": {},
   "outputs": [],
   "source": [
    "mean_act = {column: mean_machine(df_act[column]) for column in df_act.select_dtypes(include = [np.number])}"
   ]
  },
  {
   "cell_type": "code",
   "execution_count": null,
   "metadata": {},
   "outputs": [],
   "source": [
    "mean_act"
   ]
  },
  {
   "cell_type": "code",
   "execution_count": null,
   "metadata": {},
   "outputs": [],
   "source": [
    "mean_sat = {column: mean_machine(df_sat[column]) for column in df_act.select_dtypes(include = [np.number])}"
   ]
  },
  {
   "cell_type": "code",
   "execution_count": null,
   "metadata": {},
   "outputs": [],
   "source": [
    "mean_sat"
   ]
  },
  {
   "cell_type": "code",
   "execution_count": null,
   "metadata": {},
   "outputs": [],
   "source": [
    "df_sat_act_2021_optional['test_optional'].unique()"
   ]
  },
  {
   "cell_type": "code",
   "execution_count": null,
   "metadata": {},
   "outputs": [],
   "source": [
    "df_sat_act_2021_optional['test_optional'].value_counts()['No']"
   ]
  },
  {
   "cell_type": "code",
   "execution_count": null,
   "metadata": {},
   "outputs": [],
   "source": [
    "tests_optional = 100 - ((26/416) * 100)\n",
    "print(f\"Test Optional = {tests_optional} %\")"
   ]
  },
  {
   "cell_type": "code",
   "execution_count": null,
   "metadata": {},
   "outputs": [],
   "source": [
    "# According to National Center for Education Statistics (U.S. Department of Education), there are 3,931 colleges in the United States in 2021.\n",
    "\n",
    "sample_size = ((416/3931) * 100)\n",
    "print(f\"Sample Size = {round(sample_size, 2)} %\")"
   ]
  },
  {
   "cell_type": "code",
   "execution_count": null,
   "metadata": {},
   "outputs": [],
   "source": [
    "mask_2017 = df_sat['2017_participation'] > 0.50\n",
    "subset_2017 = df_sat[mask_2017][['state', '2017_participation']]\n",
    "subset_2017.reset_index(drop = True)"
   ]
  },
  {
   "cell_type": "code",
   "execution_count": null,
   "metadata": {},
   "outputs": [],
   "source": [
    "mask_2021 = df_sat['2021_participation'] > 0.50\n",
    "subset_2021 = df_sat[mask_2021][['state', '2021_participation']]\n",
    "subset_2021.reset_index(drop = True)"
   ]
  },
  {
   "cell_type": "markdown",
   "metadata": {},
   "source": [
    "**To-Do:** *Edit this cell with your findings on trends in the data (step 3 above).*"
   ]
  },
  {
   "cell_type": "markdown",
   "metadata": {},
   "source": [
    "## Visualize the Data\n",
    "\n",
    "There's not a magic bullet recommendation for the right number of plots to understand a given dataset, but visualizing your data is *always* a good idea. Not only does it allow you to quickly convey your findings (even if you have a non-technical audience), it will often reveal trends in your data that escaped you when you were looking only at numbers. It is important to not only create visualizations, but to **interpret your visualizations** as well.\n",
    "\n",
    "**Every plot should**:\n",
    "- Have a title\n",
    "- Have axis labels\n",
    "- Have appropriate tick labels\n",
    "- Text is legible in a plot\n",
    "- Plots demonstrate meaningful and valid relationships\n",
    "- Have an interpretation to aid understanding\n",
    "\n",
    "Here is an example of what your plots should look like following the above guidelines. Note that while the content of this example is unrelated, the principles of visualization hold:\n",
    "\n",
    "![](https://snag.gy/hCBR1U.jpg)\n",
    "*Interpretation: The above image shows that as we increase our spending on advertising, our sales numbers also tend to increase. There is a positive correlation between advertising spending and sales.*\n",
    "\n",
    "---\n",
    "\n",
    "Here are some prompts to get you started with visualizations. Feel free to add additional visualizations as you see fit:\n",
    "1. Use Seaborn's heatmap with pandas `.corr()` to visualize correlations between all numeric features.\n",
    "    - Heatmaps are generally not appropriate for presentations, and should often be excluded from reports as they can be visually overwhelming. **However**, they can be extremely useful in identify relationships of potential interest (as well as identifying potential collinearity before modeling).\n",
    "    - Please take time to format your output, adding a title. Look through some of the additional arguments and options. (Axis labels aren't really necessary, as long as the title is informative).\n",
    "2. Visualize distributions using histograms. If you have a lot, consider writing a custom function and use subplots.\n",
    "    - *OPTIONAL*: Summarize the underlying distributions of your features (in words & statistics)\n",
    "         - Be thorough in your verbal description of these distributions.\n",
    "         - Be sure to back up these summaries with statistics.\n",
    "         - We generally assume that data we sample from a population will be normally distributed. Do we observe this trend? Explain your answers for each distribution and how you think this will affect estimates made from these data.\n",
    "3. Plot and interpret boxplots. \n",
    "    - Boxplots demonstrate central tendency and spread in variables. In a certain sense, these are somewhat redundant with histograms, but you may be better able to identify clear outliers or differences in IQR, etc.\n",
    "    - Multiple values can be plotted to a single boxplot as long as they are of the same relative scale (meaning they have similar min/max values).\n",
    "    - Each boxplot should:\n",
    "        - Only include variables of a similar scale\n",
    "        - Have clear labels for each variable\n",
    "        - Have appropriate titles and labels\n",
    "4. Plot and interpret scatter plots to view relationships between features. Feel free to write a custom function, and subplot if you'd like. Functions save both time and space.\n",
    "    - Your plots should have:\n",
    "        - Two clearly labeled axes\n",
    "        - A proper title\n",
    "        - Colors and symbols that are clear and unmistakable\n",
    "5. Additional plots of your choosing.\n",
    "    - Are there any additional trends or relationships you haven't explored? Was there something interesting you saw that you'd like to dive further into? It's likely that there are a few more plots you might want to generate to support your narrative and recommendations that you are building toward. **As always, make sure you're interpreting your plots as you go**."
   ]
  },
  {
   "cell_type": "code",
   "execution_count": null,
   "metadata": {},
   "outputs": [],
   "source": [
    "plt.figure(figsize=(15, 10))\n",
    "\n",
    "act_part_state = df_act.sort_values('2021_participation', ascending=False)\n",
    "\n",
    "sns.barplot(x=df_act['state'], y=df_act['2017_participation'], color='#377eb8', label='2017')\n",
    "sns.barplot(x=df_act['state'], y=df_act['2018_participation'], color='#ff7f00', label='2018')\n",
    "sns.barplot(x=df_act['state'], y=df_act['2019_participation'], color='#4daf4a', label='2019')\n",
    "sns.barplot(x=df_act['state'], y=df_act['2021_participation'], color='#984ea3', label='2021')\n",
    "\n",
    "plt.xlabel('States')\n",
    "plt.ylabel('Participation')\n",
    "plt.title('ACT Test Participation by State and Year')\n",
    "plt.legend()\n",
    "\n",
    "plt.xticks(rotation=90)\n",
    "plt.show()"
   ]
  },
  {
   "cell_type": "code",
   "execution_count": null,
   "metadata": {},
   "outputs": [],
   "source": [
    "plt.figure(figsize=(15, 10))\n",
    "\n",
    "sat_part_state = df_sat.sort_values('2021_participation', ascending=False)\n",
    "\n",
    "sns.barplot(x=df_sat['state'], y=df_sat['2017_participation'], color='#377eb8', label='2017')\n",
    "sns.barplot(x=df_sat['state'], y=df_sat['2018_participation'], color='#ff7f00', label='2018')\n",
    "sns.barplot(x=df_sat['state'], y=df_sat['2019_participation'], color='#4daf4a', label='2019')\n",
    "sns.barplot(x=df_sat['state'], y=df_sat['2021_participation'], color='#984ea3', label='2021')\n",
    "\n",
    "plt.xlabel('States')\n",
    "plt.ylabel('Participation')\n",
    "plt.title('SAT Test Participation by State and Year')\n",
    "plt.legend()\n",
    "\n",
    "plt.xticks(rotation=90)\n",
    "plt.show()"
   ]
  },
  {
   "cell_type": "code",
   "execution_count": null,
   "metadata": {},
   "outputs": [],
   "source": [
    "act_part_national = {'Year': ['2017', '2018', '2019', '2021'],'Mean Participation': [mean_act['2017_participation'],mean_act['2018_participation'],mean_act['2019_participation'],mean_act['2021_participation']]}\n",
    "\n",
    "plt.figure(figsize=(8, 6))\n",
    "sns.barplot(x='Year', y='Mean Participation', data = act_part_data, palette = 'colorblind')\n",
    "plt.xlabel('Year')\n",
    "plt.ylabel('Mean Participation')\n",
    "plt.title('Mean ACT Participation by Year')\n",
    "plt.show()"
   ]
  },
  {
   "cell_type": "code",
   "execution_count": null,
   "metadata": {},
   "outputs": [],
   "source": [
    "sat_part_national = {'Year': ['2017', '2018', '2019', '2021'],'Mean Participation': [mean_sat['2017_participation'],mean_sat['2018_participation'],mean_sat['2019_participation'],mean_sat['2021_participation']]}\n",
    "\n",
    "plt.figure(figsize=(8, 6))\n",
    "sns.barplot(x='Year', y='Mean Participation', data = act_part_data, palette = 'colorblind')\n",
    "plt.xlabel('Year')\n",
    "plt.ylabel('Mean Participation')\n",
    "plt.title('Mean SAT Participation by Year')\n",
    "plt.show()"
   ]
  },
  {
   "cell_type": "markdown",
   "metadata": {},
   "source": [
    "## Conclusions and Recommendations"
   ]
  },
  {
   "cell_type": "markdown",
   "metadata": {},
   "source": [
    "Based on your exploration of the data, what are you key takeaways and recommendations? Make sure to answer your question of interest or address your problem statement here."
   ]
  },
  {
   "cell_type": "markdown",
   "metadata": {},
   "source": [
    "**To-Do:** *Edit this cell with your conclusions and recommendations.*"
   ]
  },
  {
   "cell_type": "markdown",
   "metadata": {},
   "source": [
    "Don't forget to create your README!\n",
    "\n",
    "**To-Do:** *If you combine your problem statement, data dictionary, brief summary of your analysis, and conclusions/recommendations, you have an amazing README.md file that quickly aligns your audience to the contents of your project.* Don't forget to cite your data sources!"
   ]
  }
 ],
 "metadata": {
  "anaconda-cloud": {},
  "kernelspec": {
   "display_name": "Python 3 (ipykernel)",
   "language": "python",
   "name": "python3"
  },
  "language_info": {
   "codemirror_mode": {
    "name": "ipython",
    "version": 3
   },
   "file_extension": ".py",
   "mimetype": "text/x-python",
   "name": "python",
   "nbconvert_exporter": "python",
   "pygments_lexer": "ipython3",
   "version": "3.10.9"
  }
 },
 "nbformat": 4,
 "nbformat_minor": 4
}
